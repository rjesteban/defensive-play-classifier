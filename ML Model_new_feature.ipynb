{
 "cells": [
  {
   "cell_type": "markdown",
   "metadata": {
    "deletable": true,
    "editable": true
   },
   "source": [
    "## Experiment 3 ML Model with new feature"
   ]
  },
  {
   "cell_type": "code",
   "execution_count": 1,
   "metadata": {
    "collapsed": false,
    "deletable": true,
    "editable": true
   },
   "outputs": [],
   "source": [
    "from action.core import load_action\n",
    "from metrics.evaluation import evaluate_using_bootstrap\n",
    "from model.mlmodel import *\n",
    "from preprocessor.features import *\n",
    "from sklearn import preprocessing\n",
    "from sklearn.cross_validation import train_test_split\n",
    "from sklearn.metrics import confusion_matrix\n",
    "from sklearn.svm import SVC\n",
    "import json\n",
    "import matplotlib.pyplot as plt\n",
    "import numpy as np\n",
    "%matplotlib inline"
   ]
  },
  {
   "cell_type": "code",
   "execution_count": 2,
   "metadata": {
    "collapsed": true,
    "deletable": true,
    "editable": true
   },
   "outputs": [],
   "source": [
    "PATH = \"data/actions/\"\n",
    "X = []\n",
    "y = []\n",
    "gameids = [\"0021500149\", \"0021500197\", \"0021500270\", \"0021500316\",\n",
    "           \"0021500350\", \"0021500428\", \"0021500476\", \"0021500582\"]\n"
   ]
  },
  {
   "cell_type": "code",
   "execution_count": 3,
   "metadata": {
    "collapsed": true,
    "deletable": true,
    "editable": true
   },
   "outputs": [],
   "source": [
    "_0021500149 = json.load(open(PATH + gameids[0] + \".json\"))\n",
    "_0021500197 = json.load(open(PATH + gameids[1] + \".json\"))\n",
    "_0021500270 = json.load(open(PATH + gameids[2] + \".json\"))\n",
    "_0021500316 = json.load(open(PATH + gameids[3] + \".json\"))\n",
    "_0021500350 = json.load(open(PATH + gameids[4] + \".json\"))\n",
    "_0021500428 = json.load(open(PATH + gameids[5] + \".json\"))\n",
    "_0021500476 = json.load(open(PATH + gameids[6] + \".json\"))\n",
    "_0021500582 = json.load(open(PATH + gameids[7] + \".json\")) "
   ]
  },
  {
   "cell_type": "code",
   "execution_count": 4,
   "metadata": {
    "collapsed": true,
    "deletable": true,
    "editable": true
   },
   "outputs": [],
   "source": [
    "ekeys = [_0021500149, _0021500197, _0021500270, _0021500316, _0021500350, _0021500428, _0021500476, _0021500582]"
   ]
  },
  {
   "cell_type": "code",
   "execution_count": 5,
   "metadata": {
    "collapsed": false,
    "deletable": true,
    "editable": true
   },
   "outputs": [
    {
     "name": "stdout",
     "output_type": "stream",
     "text": [
      "LOADING ACTIONS...\n",
      "0021500149 | 434\n",
      "0021500350 | 393\n",
      "0021500350 | 417\n",
      "0021500350 | 484\n",
      "0021500350 | 485\n",
      "0021500350 | 520\n",
      "0021500350 | 523\n",
      "0021500428 | 428\n",
      "0021500428 | 441\n",
      "0021500428 | 502\n",
      "0021500476 | 346\n",
      "0021500476 | 86\n",
      "0021500582 | 113\n",
      "0021500582 | 139\n",
      "0021500582 | 364\n",
      "0021500582 | 407\n",
      "0021500582 | 503\n"
     ]
    }
   ],
   "source": [
    "dtw = []\n",
    "dist = []\n",
    "canon = []\n",
    "entp = []\n",
    "tcanon = []\n",
    "pdist = []\n",
    "speed = []\n",
    "\n",
    "print \"LOADING ACTIONS...\"\n",
    "for ekey in ekeys:\n",
    "    for eid in sorted(ekey.keys()):\n",
    "        try:\n",
    "            gid = ekey[eid]['gameid']\n",
    "            action = load_action(gid, eid)\n",
    "            # _dtw  = get_DTW(action)\n",
    "            _dist = get_mean_distance(action)\n",
    "            _canon = get_mean_distance_from_cannonical_position(action)\n",
    "            _entp = get_entropy(action)\n",
    "            _tcanon = get_time_defending(action)\n",
    "            _pdist = get_distance_from_post(action)\n",
    "            _speed = get_average_speed(action)\n",
    "            # dtw.append(_dtw)\n",
    "            canon.append(_canon)\n",
    "            dist.append(_dist)\n",
    "            entp.append(_entp)\n",
    "            tcanon.append(_tcanon)\n",
    "            pdist.append(_pdist)\n",
    "            speed.append(_speed)\n",
    "            # X.append(_dtw + _entp)\n",
    "            y.append(int(action.label))\n",
    "        except Exception:\n",
    "            print gid + \" | \" + str(eid)\n",
    "y = np.array(y)"
   ]
  },
  {
   "cell_type": "code",
   "execution_count": 6,
   "metadata": {
    "collapsed": false,
    "deletable": true,
    "editable": true
   },
   "outputs": [],
   "source": [
    "# zone_dtw = [dtw[index] for index, value in enumerate(y) if value == -1]\n",
    "# man_dtw = [dtw[index] for index, value in enumerate(y) if value == 1]\n",
    "\n",
    "zone_canon = [canon[index] for index, value in enumerate(y) if value == -1]\n",
    "man_canon = [canon[index] for index, value in enumerate(y) if value == 1]\n",
    "\n",
    "zone_dist = [dist[index] for index, value in enumerate(y) if value == -1]\n",
    "man_dist = [dist[index] for index, value in enumerate(y) if value == 1]\n",
    "\n",
    "zone_entp = [entp[index] for index, value in enumerate(y) if value == -1]\n",
    "man_entp = [entp[index] for index, value in enumerate(y) if value == 1]\n",
    "\n",
    "zone_tcanon = [tcanon[index] for index, value in enumerate(y) if value == -1]\n",
    "man_tcanon = [tcanon[index] for index, value in enumerate(y) if value == 1]\n",
    "\n",
    "zone_pdist = [pdist[index] for index, value in enumerate(y) if value == -1]\n",
    "man_pdist = [pdist[index] for index, value in enumerate(y) if value == 1]\n",
    "\n",
    "zone_speed = [speed[index] for index, value in enumerate(y) if value == -1]\n",
    "man_speed = [speed[index] for index, value in enumerate(y) if value == 1]"
   ]
  },
  {
   "cell_type": "code",
   "execution_count": 7,
   "metadata": {
    "collapsed": false,
    "deletable": true,
    "editable": true
   },
   "outputs": [
    {
     "data": {
      "image/png": "[encoded data removed]",
      "text/plain": [
       "<matplotlib.figure.Figure at 0x117038050>"
      ]
     },
     "metadata": {},
     "output_type": "display_data"
    }
   ],
   "source": [
    "plt.plot(np.mean(zone_pdist, axis=1), np.mean(zone_tcanon, axis=1), 'ro', alpha=0.3)\n",
    "plt.plot(np.mean(man_pdist, axis=1), np.mean(man_tcanon, axis=1), 'bo', alpha=0.3)\n",
    "plt.show()"
   ]
  },
  {
   "cell_type": "code",
   "execution_count": 8,
   "metadata": {
    "collapsed": false,
    "deletable": true,
    "editable": true
   },
   "outputs": [
    {
     "data": {
      "image/png": "[encoded data removed]",
      "text/plain": [
       "<matplotlib.figure.Figure at 0x117038350>"
      ]
     },
     "metadata": {},
     "output_type": "display_data"
    }
   ],
   "source": [
    "plt.plot(np.mean(zone_speed, axis=1), np.mean(zone_dist, axis=1), 'ro', alpha=0.3)\n",
    "plt.plot(np.mean(man_speed, axis=1), np.mean(man_dist, axis=1), 'bo', alpha=0.3)\n",
    "plt.show()"
   ]
  },
  {
   "cell_type": "code",
   "execution_count": 9,
   "metadata": {
    "collapsed": false,
    "deletable": true,
    "editable": true
   },
   "outputs": [
    {
     "data": {
      "image/png": "[encoded data removed]",
      "text/plain": [
       "<matplotlib.figure.Figure at 0x117528c90>"
      ]
     },
     "metadata": {},
     "output_type": "display_data"
    }
   ],
   "source": [
    "plt.plot(np.mean(zone_dist, axis=1), np.mean(zone_canon, axis=1), 'ro', alpha=0.3)\n",
    "plt.plot(np.mean(man_dist, axis=1), np.mean(man_canon, axis=1), 'bo', alpha=0.3)\n",
    "plt.show()"
   ]
  },
  {
   "cell_type": "code",
   "execution_count": 10,
   "metadata": {
    "collapsed": false,
    "deletable": true,
    "editable": true
   },
   "outputs": [
    {
     "data": {
      "text/plain": [
       "[<matplotlib.lines.Line2D at 0x117528610>]"
      ]
     },
     "execution_count": 10,
     "metadata": {},
     "output_type": "execute_result"
    },
    {
     "data": {
      "image/png": "[encoded data removed]",
      "text/plain": [
       "<matplotlib.figure.Figure at 0x1175b4290>"
      ]
     },
     "metadata": {},
     "output_type": "display_data"
    }
   ],
   "source": [
    "# X = np.matrix(preprocessing.scale(zip(np.mean(dist, axis=1), np.median(canon, axis=1))))\n",
    "X = np.matrix(preprocessing.scale(zip(np.mean(dist, axis=1), np.mean(canon, axis=1), np.mean(tcanon, axis=1), np.mean(pdist, axis=1))))\n",
    "plt.plot(np.array(X.T[0])[0], np.array(X.T[1])[0], 'o')"
   ]
  },
  {
   "cell_type": "code",
   "execution_count": null,
   "metadata": {
    "collapsed": false,
    "deletable": true,
    "editable": true
   },
   "outputs": [],
   "source": [
    "X = []\n",
    "for index in range(len(dist)):\n",
    "    X.append([np.mean(dist[index]), np.mean(canon[index])])\n",
    "X = np.matrix(X)"
   ]
  },
  {
   "cell_type": "code",
   "execution_count": 11,
   "metadata": {
    "collapsed": false,
    "deletable": true,
    "editable": true
   },
   "outputs": [
    {
     "name": "stdout",
     "output_type": "stream",
     "text": [
      "SPLITTING DATA...\n",
      "BUILDING MODEL...\n",
      "SHOWING METRICS FOR TRAINING...\n",
      "[[31  5]\n",
      " [ 4 51]]\n",
      "sensitivity: 0.92727\n",
      "specificity: 0.86111\n",
      "   accuracy: 0.9011\n",
      "SHOWING METRICS FOR TESTING...\n",
      "[[13  3]\n",
      " [ 4 20]]\n",
      "sensitivity: 0.83333\n",
      "specificity: 0.8125\n",
      "   accuracy: 0.825\n"
     ]
    }
   ],
   "source": [
    "print \"SPLITTING DATA...\"\n",
    "X_train, X_test, y_train, y_test = train_test_split(X, y, test_size=0.3, stratify=y)\n",
    "# X_train, X_test, y_train, y_test = bootstrap632(X, y)\n",
    "# \"\"\"\n",
    "print \"BUILDING MODEL...\"\n",
    "clf = SVC()  # (class_weight='balanced')\n",
    "clf.fit(X_train, y_train)\n",
    "# \"\"\"\n",
    "\n",
    "\"\"\"\n",
    "from sklearn.neighbors import KNeighborsClassifier as KNN\n",
    "clf = KNN(n_neighbors=3)\n",
    "clf.fit(X_train, y_train)\n",
    "\"\"\"\n",
    "\n",
    "y_pred = [clf.predict(x)[0] for x in X_test]\n",
    "\n",
    "y_train_pred = [clf.predict(x) for x in X_train]\n",
    "\n",
    "print \"SHOWING METRICS FOR TRAINING...\"\n",
    "cf_train = confusion_matrix(y_train, y_train_pred, labels=[-1, 1])\n",
    "print cf_train\n",
    "\n",
    "# Thus in binary classification, the count of \n",
    "# true negatives is C_{0,0}\n",
    "# false negatives is C_{1,0}\n",
    "# true positives is C_{1,1}\n",
    "# false positives is C_{0,1}\n",
    "\n",
    "TN = cf_train[0][0] * 1.0\n",
    "FN = cf_train[1][0] * 1.0\n",
    "TP = cf_train[1][1] * 1.0\n",
    "FP = cf_train[0][1] * 1.0\n",
    "P = (TP + FN) * 1.0\n",
    "N = (TN + FP) * 1.0\n",
    "\n",
    "sensitivity = TP / P\n",
    "specificity = TN / N\n",
    "\n",
    "accuracy = (sensitivity * (P / (P + N))) + (specificity * (N / (P + N)))\n",
    "\n",
    "print \"sensitivity: \" + str(round(sensitivity, 5))\n",
    "print \"specificity: \" + str(round(specificity, 5))\n",
    "print \"   accuracy: \" + str(round(accuracy, 5))\n",
    "\n",
    "print \"SHOWING METRICS FOR TESTING...\"\n",
    "cf_test = confusion_matrix(y_test, y_pred, labels=[-1, 1])\n",
    "print cf_test\n",
    "\n",
    "# Thus in binary classification, the count of \n",
    "# true negatives is C_{0,0}\n",
    "# false negatives is C_{1,0}\n",
    "# true positives is C_{1,1}\n",
    "# false positives is C_{0,1}\n",
    "\n",
    "TN = cf_test[0][0] * 1.0\n",
    "FN = cf_test[1][0] * 1.0\n",
    "TP = cf_test[1][1] * 1.0\n",
    "FP = cf_test[0][1] * 1.0\n",
    "P = (TP + FN) * 1.0\n",
    "N = (TN + FP) * 1.0\n",
    "\n",
    "sensitivity = TP / P\n",
    "specificity = TN / N\n",
    "\n",
    "accuracy = (sensitivity * (P / (P + N))) + (specificity * (N / (P + N)))\n",
    "\n",
    "print \"sensitivity: \" + str(round(sensitivity, 5))\n",
    "print \"specificity: \" + str(round(specificity, 5))\n",
    "print \"   accuracy: \" + str(round(accuracy, 5))"
   ]
  },
  {
   "cell_type": "code",
   "execution_count": 12,
   "metadata": {
    "collapsed": false,
    "deletable": true,
    "editable": true
   },
   "outputs": [
    {
     "name": "stdout",
     "output_type": "stream",
     "text": [
      "[[11  2]\n",
      " [ 6 28]]\n",
      "sensitivity test: 0.82353\n",
      "specificity test: 0.84615\n",
      "   accuracy test: 0.82979\n",
      "\n",
      "[[16  3]\n",
      " [ 6 28]]\n",
      "sensitivity test: 0.82353\n",
      "specificity test: 0.84211\n",
      "   accuracy test: 0.83019\n",
      "\n",
      "[[12  4]\n",
      " [ 3 30]]\n",
      "sensitivity test: 0.90909\n",
      "specificity test: 0.75\n",
      "   accuracy test: 0.85714\n",
      "\n",
      "[[12  2]\n",
      " [ 4 26]]\n",
      "sensitivity test: 0.86667\n",
      "specificity test: 0.85714\n",
      "   accuracy test: 0.86364\n",
      "\n",
      "[[15  7]\n",
      " [ 3 21]]\n",
      "sensitivity test: 0.875\n",
      "specificity test: 0.68182\n",
      "   accuracy test: 0.78261\n",
      "\n",
      "[[20  3]\n",
      " [ 5 22]]\n",
      "sensitivity test: 0.81481\n",
      "specificity test: 0.86957\n",
      "   accuracy test: 0.84\n",
      "\n",
      "[[18  3]\n",
      " [ 5 19]]\n",
      "sensitivity test: 0.79167\n",
      "specificity test: 0.85714\n",
      "   accuracy test: 0.82222\n",
      "\n",
      "[[16  0]\n",
      " [ 8 22]]\n",
      "sensitivity test: 0.73333\n",
      "specificity test: 1.0\n",
      "   accuracy test: 0.82609\n",
      "\n",
      "[[14  1]\n",
      " [ 1 26]]\n",
      "sensitivity test: 0.96296\n",
      "specificity test: 0.93333\n",
      "   accuracy test: 0.95238\n",
      "\n",
      "[[12  2]\n",
      " [ 7 30]]\n",
      "sensitivity test: 0.81081\n",
      "specificity test: 0.85714\n",
      "   accuracy test: 0.82353\n",
      "\n",
      "Accuracy of the model: 0.873093498157\n"
     ]
    },
    {
     "data": {
      "text/plain": [
       "0.87309349815651294"
      ]
     },
     "execution_count": 12,
     "metadata": {},
     "output_type": "execute_result"
    }
   ],
   "source": [
    "# (X, y)\n",
    "evaluate_using_bootstrap(create_SVC, X, y)\n"
   ]
  },
  {
   "cell_type": "code",
   "execution_count": 13,
   "metadata": {
    "collapsed": false
   },
   "outputs": [
    {
     "name": "stdout",
     "output_type": "stream",
     "text": [
      "[[13  4]\n",
      " [ 4 22]]\n",
      "sensitivity test: 0.84615\n",
      "specificity test: 0.76471\n",
      "   accuracy test: 0.81395\n",
      "\n",
      "[[ 9  3]\n",
      " [ 4 22]]\n",
      "sensitivity test: 0.84615\n",
      "specificity test: 0.75\n",
      "   accuracy test: 0.81579\n",
      "\n",
      "[[18  0]\n",
      " [ 2 25]]\n",
      "sensitivity test: 0.92593\n",
      "specificity test: 1.0\n",
      "   accuracy test: 0.95556\n",
      "\n",
      "[[15  2]\n",
      " [ 6 24]]\n",
      "sensitivity test: 0.8\n",
      "specificity test: 0.88235\n",
      "   accuracy test: 0.82979\n",
      "\n",
      "[[17  0]\n",
      " [ 4 23]]\n",
      "sensitivity test: 0.85185\n",
      "specificity test: 1.0\n",
      "   accuracy test: 0.90909\n",
      "\n",
      "[[21  4]\n",
      " [ 6 21]]\n",
      "sensitivity test: 0.77778\n",
      "specificity test: 0.84\n",
      "   accuracy test: 0.80769\n",
      "\n",
      "[[21  4]\n",
      " [ 2 24]]\n",
      "sensitivity test: 0.92308\n",
      "specificity test: 0.84\n",
      "   accuracy test: 0.88235\n",
      "\n",
      "[[13  3]\n",
      " [ 4 27]]\n",
      "sensitivity test: 0.87097\n",
      "specificity test: 0.8125\n",
      "   accuracy test: 0.85106\n",
      "\n",
      "[[20  3]\n",
      " [ 6 23]]\n",
      "sensitivity test: 0.7931\n",
      "specificity test: 0.86957\n",
      "   accuracy test: 0.82692\n",
      "\n",
      "[[16  0]\n",
      " [ 7 23]]\n",
      "sensitivity test: 0.76667\n",
      "specificity test: 1.0\n",
      "   accuracy test: 0.84783\n",
      "\n",
      "Accuracy of the model: 0.879076770773\n"
     ]
    },
    {
     "data": {
      "text/plain": [
       "0.87907677077285096"
      ]
     },
     "execution_count": 13,
     "metadata": {},
     "output_type": "execute_result"
    }
   ],
   "source": [
    "evaluate_using_bootstrap(create_SVC_balanced, X, y)"
   ]
  }
 ],
 "metadata": {
  "kernelspec": {
   "display_name": "Python 2",
   "language": "python",
   "name": "python2"
  },
  "language_info": {
   "codemirror_mode": {
    "name": "ipython",
    "version": 2
   },
   "file_extension": ".py",
   "mimetype": "text/x-python",
   "name": "python",
   "nbconvert_exporter": "python",
   "pygments_lexer": "ipython2",
   "version": "2.7.6"
  }
 },
 "nbformat": 4,
 "nbformat_minor": 0
}
