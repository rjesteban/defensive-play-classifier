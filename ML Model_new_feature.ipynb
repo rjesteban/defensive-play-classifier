{
 "cells": [
  {
   "cell_type": "markdown",
   "metadata": {
    "deletable": true,
    "editable": true
   },
   "source": [
    "## Experiment 3 ML Model with new feature"
   ]
  },
  {
   "cell_type": "code",
   "execution_count": 6,
   "metadata": {
    "collapsed": false,
    "deletable": true,
    "editable": true
   },
   "outputs": [],
   "source": [
    "from action.core import load_action\n",
    "from preprocessor.features import *\n",
    "from sampling.bootstrap import bootstrap632\n",
    "from sklearn import preprocessing\n",
    "from sklearn.cross_validation import train_test_split\n",
    "from sklearn.metrics import confusion_matrix\n",
    "from sklearn.svm import SVC\n",
    "import json\n",
    "import matplotlib.pyplot as plt\n",
    "import numpy as np\n",
    "%matplotlib inline"
   ]
  },
  {
   "cell_type": "code",
   "execution_count": 7,
   "metadata": {
    "collapsed": true,
    "deletable": true,
    "editable": true
   },
   "outputs": [],
   "source": [
    "PATH = \"data/actions/\"\n",
    "X = []\n",
    "y = []\n",
    "gameids = [\"0021500149\", \"0021500197\", \"0021500270\", \"0021500316\",\n",
    "           \"0021500350\", \"0021500428\", \"0021500476\", \"0021500582\"]\n",
    "dtw = []\n",
    "dist = []\n",
    "canon = []\n",
    "entp = []\n",
    "tcanon = []\n",
    "pdist = []"
   ]
  },
  {
   "cell_type": "code",
   "execution_count": 8,
   "metadata": {
    "collapsed": true,
    "deletable": true,
    "editable": true
   },
   "outputs": [],
   "source": [
    "_0021500149 = json.load(open(PATH + gameids[0] + \".json\"))\n",
    "_0021500197 = json.load(open(PATH + gameids[1] + \".json\"))\n",
    "_0021500270 = json.load(open(PATH + gameids[2] + \".json\"))\n",
    "_0021500316 = json.load(open(PATH + gameids[3] + \".json\"))\n",
    "_0021500350 = json.load(open(PATH + gameids[4] + \".json\"))\n",
    "_0021500428 = json.load(open(PATH + gameids[5] + \".json\"))\n",
    "_0021500476 = json.load(open(PATH + gameids[6] + \".json\"))\n",
    "_0021500582 = json.load(open(PATH + gameids[7] + \".json\")) "
   ]
  },
  {
   "cell_type": "code",
   "execution_count": 9,
   "metadata": {
    "collapsed": true,
    "deletable": true,
    "editable": true
   },
   "outputs": [],
   "source": [
    "ekeys = [_0021500149, _0021500197, _0021500270, _0021500316, _0021500350, _0021500428, _0021500476, _0021500582]"
   ]
  },
  {
   "cell_type": "code",
   "execution_count": 10,
   "metadata": {
    "collapsed": false,
    "deletable": true,
    "editable": true
   },
   "outputs": [
    {
     "name": "stdout",
     "output_type": "stream",
     "text": [
      "LOADING ACTIONS...\n",
      "0021500149 | 434\n",
      "0021500350 | 393\n",
      "0021500350 | 417\n",
      "0021500350 | 485\n",
      "0021500428 | 428\n",
      "0021500428 | 441\n",
      "0021500476 | 346\n",
      "0021500476 | 86\n",
      "0021500582 | 407\n",
      "0021500582 | 503\n"
     ]
    }
   ],
   "source": [
    "print \"LOADING ACTIONS...\"\n",
    "for ekey in ekeys:\n",
    "    for eid in sorted(ekey.keys()):\n",
    "        try:\n",
    "            gid = ekey[eid]['gameid']\n",
    "            action = load_action(gid, eid)\n",
    "            # _dtw  = get_DTW(action)\n",
    "            _dist = get_mean_distance(action)\n",
    "            _canon = get_mean_distance_from_cannonical_position(action)\n",
    "            _entp = get_entropy(action)\n",
    "            _tcanon = get_time_defending(action)\n",
    "            _pdist = get_distance_from_post(action)\n",
    "            # dtw.append(_dtw)\n",
    "            canon.append(_canon)\n",
    "            dist.append(_dist)\n",
    "            entp.append(_entp)\n",
    "            tcanon.append(_tcanon)\n",
    "            pdist.append(_pdist)\n",
    "            # X.append(_dtw + _entp)\n",
    "            y.append(int(action.label))\n",
    "        except Exception:\n",
    "            print gid + \" | \" + str(eid)\n",
    "y = np.array(y)"
   ]
  },
  {
   "cell_type": "code",
   "execution_count": 11,
   "metadata": {
    "collapsed": false,
    "deletable": true,
    "editable": true
   },
   "outputs": [],
   "source": [
    "# zone_dtw = [dtw[index] for index, value in enumerate(y) if value == -1]\n",
    "# man_dtw = [dtw[index] for index, value in enumerate(y) if value == 1]\n",
    "\n",
    "zone_canon = [canon[index] for index, value in enumerate(y) if value == -1]\n",
    "man_canon = [canon[index] for index, value in enumerate(y) if value == 1]\n",
    "\n",
    "zone_dist = [dist[index] for index, value in enumerate(y) if value == -1]\n",
    "man_dist = [dist[index] for index, value in enumerate(y) if value == 1]\n",
    "\n",
    "zone_entp = [entp[index] for index, value in enumerate(y) if value == -1]\n",
    "man_entp = [entp[index] for index, value in enumerate(y) if value == 1]\n",
    "\n",
    "zone_tcanon = [tcanon[index] for index, value in enumerate(y) if value == -1]\n",
    "man_tcanon = [tcanon[index] for index, value in enumerate(y) if value == 1]\n",
    "\n",
    "zone_pdist = [pdist[index] for index, value in enumerate(y) if value == -1]\n",
    "man_pdist = [pdist[index] for index, value in enumerate(y) if value == 1]"
   ]
  },
  {
   "cell_type": "code",
   "execution_count": 12,
   "metadata": {
    "collapsed": false
   },
   "outputs": [
    {
     "data": {
      "image/png": "[encoded data removed]",
      "text/plain": [
       "<matplotlib.figure.Figure at 0x1bceaa20>"
      ]
     },
     "metadata": {},
     "output_type": "display_data"
    }
   ],
   "source": [
    "plt.plot(np.mean(zone_pdist, axis=1), np.mean(zone_tcanon, axis=1), 'ro', alpha=0.3)\n",
    "plt.plot(np.mean(man_pdist, axis=1), np.mean(man_tcanon, axis=1), 'bo', alpha=0.3)\n",
    "plt.show()"
   ]
  },
  {
   "cell_type": "code",
   "execution_count": 13,
   "metadata": {
    "collapsed": false
   },
   "outputs": [
    {
     "data": {
      "image/png": "[encoded data removed]",
      "text/plain": [
       "<matplotlib.figure.Figure at 0x2696be80>"
      ]
     },
     "metadata": {},
     "output_type": "display_data"
    }
   ],
   "source": [
    "plt.plot(np.mean(zone_dist, axis=1), np.mean(zone_canon, axis=1), 'ro', alpha=0.3)\n",
    "plt.plot(np.mean(man_dist, axis=1), np.mean(man_canon, axis=1), 'bo', alpha=0.3)\n",
    "plt.show()"
   ]
  },
  {
   "cell_type": "code",
   "execution_count": 14,
   "metadata": {
    "collapsed": false
   },
   "outputs": [
    {
     "data": {
      "text/plain": [
       "[<matplotlib.lines.Line2D at 0x2694b710>]"
      ]
     },
     "execution_count": 14,
     "metadata": {},
     "output_type": "execute_result"
    },
    {
     "data": {
      "image/png": "[encoded data removed]",
      "text/plain": [
       "<matplotlib.figure.Figure at 0x26b373c8>"
      ]
     },
     "metadata": {},
     "output_type": "display_data"
    }
   ],
   "source": [
    "# X = np.matrix(preprocessing.scale(zip(np.mean(dist, axis=1), np.median(canon, axis=1))))\n",
    "X = np.matrix(preprocessing.scale(zip(np.mean(dist, axis=1), np.mean(canon, axis=1), np.mean(tcanon, axis=1), np.mean(pdist, axis=1))))\n",
    "plt.plot(np.array(X.T[0])[0], np.array(X.T[1])[0], 'o')"
   ]
  },
  {
   "cell_type": "code",
   "execution_count": 9,
   "metadata": {
    "collapsed": false
   },
   "outputs": [],
   "source": [
    "X = []\n",
    "for index in range(len(dist)):\n",
    "    X.append([np.mean(dist[index]), np.mean(canon[index])])\n",
    "X = np.matrix(X)"
   ]
  },
  {
   "cell_type": "code",
   "execution_count": 16,
   "metadata": {
    "collapsed": false
   },
   "outputs": [
    {
     "name": "stdout",
     "output_type": "stream",
     "text": [
      "SPLITTING DATA...\n",
      "BUILDING MODEL...\n",
      "SHOWING METRICS FOR TRAINING...\n",
      "[[36  4]\n",
      " [ 2 53]]\n",
      "sensitivity: 0.96364\n",
      "specificity: 0.9\n",
      "   accuracy: 0.93684\n",
      "SHOWING METRICS FOR TESTING...\n",
      "[[13  4]\n",
      " [ 2 22]]\n",
      "sensitivity: 0.91667\n",
      "specificity: 0.76471\n",
      "   accuracy: 0.85366\n"
     ]
    }
   ],
   "source": [
    "print \"SPLITTING DATA...\"\n",
    "X_train, X_test, y_train, y_test = train_test_split(X, y, test_size=0.3, stratify=y)\n",
    "# X_train, X_test, y_train, y_test = bootstrap632(X, y)\n",
    "# \"\"\"\n",
    "print \"BUILDING MODEL...\"\n",
    "clf = SVC()  # (class_weight='balanced')\n",
    "clf.fit(X_train, y_train)\n",
    "# \"\"\"\n",
    "\n",
    "\"\"\"\n",
    "from sklearn.neighbors import KNeighborsClassifier as KNN\n",
    "clf = KNN(n_neighbors=3)\n",
    "clf.fit(X_train, y_train)\n",
    "\"\"\"\n",
    "\n",
    "y_pred = [clf.predict(x)[0] for x in X_test]\n",
    "\n",
    "y_train_pred = [clf.predict(x) for x in X_train]\n",
    "\n",
    "print \"SHOWING METRICS FOR TRAINING...\"\n",
    "cf_train = confusion_matrix(y_train, y_train_pred, labels=[-1, 1])\n",
    "print cf_train\n",
    "\n",
    "# Thus in binary classification, the count of \n",
    "# true negatives is C_{0,0}\n",
    "# false negatives is C_{1,0}\n",
    "# true positives is C_{1,1}\n",
    "# false positives is C_{0,1}\n",
    "\n",
    "TN = cf_train[0][0] * 1.0\n",
    "FN = cf_train[1][0] * 1.0\n",
    "TP = cf_train[1][1] * 1.0\n",
    "FP = cf_train[0][1] * 1.0\n",
    "P = (TP + FN) * 1.0\n",
    "N = (TN + FP) * 1.0\n",
    "\n",
    "sensitivity = TP / P\n",
    "specificity = TN / N\n",
    "\n",
    "accuracy = (sensitivity * (P / (P + N))) + (specificity * (N / (P + N)))\n",
    "\n",
    "print \"sensitivity: \" + str(round(sensitivity, 5))\n",
    "print \"specificity: \" + str(round(specificity, 5))\n",
    "print \"   accuracy: \" + str(round(accuracy, 5))\n",
    "\n",
    "print \"SHOWING METRICS FOR TESTING...\"\n",
    "cf_test = confusion_matrix(y_test, y_pred, labels=[-1, 1])\n",
    "print cf_test\n",
    "\n",
    "# Thus in binary classification, the count of \n",
    "# true negatives is C_{0,0}\n",
    "# false negatives is C_{1,0}\n",
    "# true positives is C_{1,1}\n",
    "# false positives is C_{0,1}\n",
    "\n",
    "TN = cf_test[0][0] * 1.0\n",
    "FN = cf_test[1][0] * 1.0\n",
    "TP = cf_test[1][1] * 1.0\n",
    "FP = cf_test[0][1] * 1.0\n",
    "P = (TP + FN) * 1.0\n",
    "N = (TN + FP) * 1.0\n",
    "\n",
    "sensitivity = TP / P\n",
    "specificity = TN / N\n",
    "\n",
    "accuracy = (sensitivity * (P / (P + N))) + (specificity * (N / (P + N)))\n",
    "\n",
    "print \"sensitivity: \" + str(round(sensitivity, 5))\n",
    "print \"specificity: \" + str(round(specificity, 5))\n",
    "print \"   accuracy: \" + str(round(accuracy, 5))"
   ]
  },
  {
   "cell_type": "code",
   "execution_count": 27,
   "metadata": {
    "collapsed": false
   },
   "outputs": [
    {
     "name": "stdout",
     "output_type": "stream",
     "text": [
      "Accuracy of the model: 0.886311194548\n"
     ]
    }
   ],
   "source": [
    "k = 10\n",
    "acc_train = []\n",
    "acc_test = []\n",
    "for i in range(k):\n",
    "    # X_train, X_test, y_train, y_test = train_test_split(X, y, test_size=0.3, stratify=y)\n",
    "    X_train, X_test, y_train, y_test = bootstrap632(X, y)\n",
    "    # \"\"\"\n",
    "    clf = SVC()  # (class_weight='balanced')\n",
    "    clf.fit(X_train, y_train)\n",
    "    # \"\"\"\n",
    "\n",
    "    y_pred = [clf.predict(x)[0] for x in X_test]\n",
    "\n",
    "    y_train_pred = [clf.predict(x) for x in X_train]\n",
    "\n",
    "    cf_train = confusion_matrix(y_train, y_train_pred, labels=[-1, 1])\n",
    "\n",
    "    TN = cf_train[0][0] * 1.0\n",
    "    FN = cf_train[1][0] * 1.0\n",
    "    TP = cf_train[1][1] * 1.0\n",
    "    FP = cf_train[0][1] * 1.0\n",
    "    P = (TP + FN) * 1.0\n",
    "    N = (TN + FP) * 1.0\n",
    "\n",
    "    sensitivity_train = TP / P\n",
    "    specificity_train = TN / N\n",
    "\n",
    "    accuracy_train = (sensitivity_train * (P / (P + N))) + (specificity_train * (N / (P + N)))\n",
    "\n",
    "    cf_test = confusion_matrix(y_test, y_pred, labels=[-1, 1])\n",
    "    TN = cf_test[0][0] * 1.0\n",
    "    FN = cf_test[1][0] * 1.0\n",
    "    TP = cf_test[1][1] * 1.0\n",
    "    FP = cf_test[0][1] * 1.0\n",
    "    P = (TP + FN) * 1.0\n",
    "    N = (TN + FP) * 1.0\n",
    "\n",
    "    sensitivity_test = TP / P\n",
    "    specificity_test = TN / N\n",
    "\n",
    "    accuracy_test = (sensitivity_test * (P / (P + N))) + (specificity_test * (N / (P + N)))\n",
    "    acc_train.append(accuracy_train)\n",
    "    acc_test.append(accuracy_test)\n",
    "\n",
    "import numpy as np\n",
    "acc_m = (0.632 * np.mean(acc_test)) + (0.368 * np.mean(acc_train))\n",
    "print \"Accuracy of the model: \" + str(acc_m)"
   ]
  }
 ],
 "metadata": {
  "kernelspec": {
   "display_name": "Python 2",
   "language": "python",
   "name": "python2"
  },
  "language_info": {
   "codemirror_mode": {
    "name": "ipython",
    "version": 2
   },
   "file_extension": ".py",
   "mimetype": "text/x-python",
   "name": "python",
   "nbconvert_exporter": "python",
   "pygments_lexer": "ipython2",
   "version": "2.7.10"
  }
 },
 "nbformat": 4,
 "nbformat_minor": 0
}
