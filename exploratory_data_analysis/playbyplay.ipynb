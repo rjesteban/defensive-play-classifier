{
 "cells": [
  {
   "cell_type": "markdown",
   "metadata": {},
   "source": [
    "# Contents of play by play data"
   ]
  },
  {
   "cell_type": "code",
   "execution_count": 39,
   "metadata": {
    "collapsed": false
   },
   "outputs": [
    {
     "name": "stdout",
     "output_type": "stream",
     "text": [
      "keys [u'resource', u'parameters', u'resultSets']\n",
      "resource: playbyplay\n",
      "resultSets[1]: {u'headers': [u'VIDEO_AVAILABLE_FLAG'], u'rowSet': [[1]], u'name': u'AvailableVideo'}\n",
      "resultSets[0] comprises the moments for the game\n"
     ]
    },
    {
     "data": {
      "text/html": [
       "<div>\n",
       "<table border=\"1\" class=\"dataframe\">\n",
       "  <thead>\n",
       "    <tr style=\"text-align: right;\">\n",
       "      <th></th>\n",
       "      <th>GAME_ID</th>\n",
       "      <th>EVENTNUM</th>\n",
       "      <th>EVENTMSGTYPE</th>\n",
       "      <th>EVENTMSGACTIONTYPE</th>\n",
       "      <th>PERIOD</th>\n",
       "      <th>WCTIMESTRING</th>\n",
       "      <th>PCTIMESTRING</th>\n",
       "      <th>HOMEDESCRIPTION</th>\n",
       "      <th>NEUTRALDESCRIPTION</th>\n",
       "      <th>VISITORDESCRIPTION</th>\n",
       "      <th>...</th>\n",
       "      <th>PLAYER2_TEAM_CITY</th>\n",
       "      <th>PLAYER2_TEAM_NICKNAME</th>\n",
       "      <th>PLAYER2_TEAM_ABBREVIATION</th>\n",
       "      <th>PERSON3TYPE</th>\n",
       "      <th>PLAYER3_ID</th>\n",
       "      <th>PLAYER3_NAME</th>\n",
       "      <th>PLAYER3_TEAM_ID</th>\n",
       "      <th>PLAYER3_TEAM_CITY</th>\n",
       "      <th>PLAYER3_TEAM_NICKNAME</th>\n",
       "      <th>PLAYER3_TEAM_ABBREVIATION</th>\n",
       "    </tr>\n",
       "  </thead>\n",
       "  <tbody>\n",
       "  </tbody>\n",
       "</table>\n",
       "<p>0 rows × 33 columns</p>\n",
       "</div>"
      ],
      "text/plain": [
       "Empty DataFrame\n",
       "Columns: [GAME_ID, EVENTNUM, EVENTMSGTYPE, EVENTMSGACTIONTYPE, PERIOD, WCTIMESTRING, PCTIMESTRING, HOMEDESCRIPTION, NEUTRALDESCRIPTION, VISITORDESCRIPTION, SCORE, SCOREMARGIN, PERSON1TYPE, PLAYER1_ID, PLAYER1_NAME, PLAYER1_TEAM_ID, PLAYER1_TEAM_CITY, PLAYER1_TEAM_NICKNAME, PLAYER1_TEAM_ABBREVIATION, PERSON2TYPE, PLAYER2_ID, PLAYER2_NAME, PLAYER2_TEAM_ID, PLAYER2_TEAM_CITY, PLAYER2_TEAM_NICKNAME, PLAYER2_TEAM_ABBREVIATION, PERSON3TYPE, PLAYER3_ID, PLAYER3_NAME, PLAYER3_TEAM_ID, PLAYER3_TEAM_CITY, PLAYER3_TEAM_NICKNAME, PLAYER3_TEAM_ABBREVIATION]\n",
       "Index: []\n",
       "\n",
       "[0 rows x 33 columns]"
      ]
     },
     "execution_count": 39,
     "metadata": {},
     "output_type": "execute_result"
    }
   ],
   "source": [
    "import json\n",
    "import pandas as pd\n",
    "import numpy as np\n",
    "\n",
    "data = json.load(open('../pbp/0021500149pbp.json'))\n",
    "print \"keys \" + str(data.keys())\n",
    "print \"resource: \" + str(data['resource'])\n",
    "print \"resultSets[1]: \" + str(data['resultSets'][1])\n",
    "\n",
    "print \"resultSets[0] comprises the moments for the game\"\n",
    "headers = data['resultSets'][0]['headers']\n",
    "\n",
    "\n",
    "\n",
    "df = pd.DataFrame(columns=headers)\n",
    "df\n",
    "# df = pd.DataFrame(gameData, columns=headers)"
   ]
  },
  {
   "cell_type": "markdown",
   "metadata": {},
   "source": [
    "The most important parts here are the first 3 indices (GAME_ID, EVENTNUM, and EVENTMSGTYPE). Values of EVENTMSGTYPE are as follows:  \n",
    "\n",
    "###### EVENTMSGTYPE  \n",
    "1 - Make  \n",
    "2 - Miss  \n",
    "3 - Free Throw  \n",
    "4 - Rebound  \n",
    "5 - out of bounds / Tur  \n",
    "6 - Personal Foul  \n",
    "7 - Violation  \n",
    "8 - Substitution  \n",
    "9 - Timeout  \n",
    "10 - Jumpball  \n",
    "12 - Start Q1   \n",
    "13 - Start Q2   \n",
    "\n",
    "###### EVENTMSGACTIONTYPE\n",
    "40 or 45 - Turn over inbound\n",
    "\n",
    "We only need to pick ids of moments ending in a shot (1 or 2), or a steal (5).  \n",
    "We also pick after timeout/violation/substitution/foul moments.  \n",
    "We do not pick moments where the previous moment was a steal.  \n",
    "\n",
    "This values of the play by play moments can be obtained using this snippet:\n",
    "<code>data['resultSets'][0]['rowSet']</code>"
   ]
  },
  {
   "cell_type": "code",
   "execution_count": 1,
   "metadata": {
    "collapsed": true
   },
   "outputs": [],
   "source": [
    "def pick_possessions(pbp):\n",
    "    \"\"\"\n",
    "    picks ids of moments ending in a shot, or a steal.\n",
    "    do not pick moments where the previous moment was a steal.\n",
    "    pick after timeout/violation/substitution/foul moments.\n",
    "\n",
    "    Keyword argument:\n",
    "    pbp -- file name (str)\n",
    "    \"\"\"\n",
    "    data = json.load(open(pbp))\n",
    "    row_set = data['resultSets'][0]['rowSet']\n",
    "    moments = []\n",
    "\n",
    "    for i in range(len(row_set)):\n",
    "        if ((1 <= row_set[i][2] <= 2 or row_set[i][2] == 5) and\n",
    "           row_set[i - 1][2] != 5):\n",
    "            moments.append(row_set[i][:3])\n",
    "    return moments"
   ]
  }
 ],
 "metadata": {
  "kernelspec": {
   "display_name": "Python 2",
   "language": "python",
   "name": "python2"
  },
  "language_info": {
   "codemirror_mode": {
    "name": "ipython",
    "version": 2
   },
   "file_extension": ".py",
   "mimetype": "text/x-python",
   "name": "python",
   "nbconvert_exporter": "python",
   "pygments_lexer": "ipython2",
   "version": "2.7.10"
  }
 },
 "nbformat": 4,
 "nbformat_minor": 0
}
