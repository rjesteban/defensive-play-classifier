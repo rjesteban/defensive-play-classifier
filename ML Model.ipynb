{
 "cells": [
  {
   "cell_type": "markdown",
   "metadata": {
    "deletable": true,
    "editable": true
   },
   "source": [
    "## ML Model"
   ]
  },
  {
   "cell_type": "code",
   "execution_count": 2,
   "metadata": {
    "collapsed": true,
    "deletable": true,
    "editable": true
   },
   "outputs": [],
   "source": [
    "from action.core import load_action\n",
    "from preprocessor.features import *\n",
    "from sklearn.cross_validation import train_test_split\n",
    "from sklearn.metrics import confusion_matrix\n",
    "from sklearn.svm import SVC\n",
    "import json\n",
    "import numpy as np"
   ]
  },
  {
   "cell_type": "code",
   "execution_count": 63,
   "metadata": {
    "collapsed": true,
    "deletable": true,
    "editable": true
   },
   "outputs": [],
   "source": [
    "PATH = \"data/actions/\"\n",
    "X = []\n",
    "y = []\n",
    "gameids = [\"0021500149\", \"0021500197\", \"0021500270\", \"0021500316\",\n",
    "           \"0021500350\", \"0021500428\", \"0021500476\", \"0021500582\"]\n",
    "dtw = []\n",
    "dist = []\n",
    "canon = []\n",
    "entp = []"
   ]
  },
  {
   "cell_type": "code",
   "execution_count": 10,
   "metadata": {
    "collapsed": true,
    "deletable": true,
    "editable": true
   },
   "outputs": [],
   "source": [
    "_0021500149 = json.load(open(PATH + gameids[0] + \".json\"))\n",
    "_0021500197 = json.load(open(PATH + gameids[1] + \".json\"))\n",
    "_0021500270 = json.load(open(PATH + gameids[2] + \".json\"))\n",
    "_0021500316 = json.load(open(PATH + gameids[3] + \".json\"))\n",
    "_0021500350 = json.load(open(PATH + gameids[4] + \".json\"))\n",
    "_0021500428 = json.load(open(PATH + gameids[5] + \".json\"))\n",
    "_0021500476 = json.load(open(PATH + gameids[6] + \".json\"))\n",
    "_0021500582 = json.load(open(PATH + gameids[7] + \".json\")) "
   ]
  },
  {
   "cell_type": "code",
   "execution_count": 11,
   "metadata": {
    "collapsed": true,
    "deletable": true,
    "editable": true
   },
   "outputs": [],
   "source": [
    "ekeys = [_0021500149, _0021500197, _0021500270, _0021500316, _0021500350, _0021500428, _0021500476, _0021500582]"
   ]
  },
  {
   "cell_type": "code",
   "execution_count": 64,
   "metadata": {
    "collapsed": false,
    "deletable": true,
    "editable": true
   },
   "outputs": [
    {
     "name": "stdout",
     "output_type": "stream",
     "text": [
      "LOADING ACTIONS...\n",
      "0021500350 | 393\n",
      "0021500350 | 520\n",
      "0021500350 | 523\n",
      "0021500428 | 428\n",
      "0021500428 | 441\n",
      "0021500428 | 502\n",
      "0021500476 | 86\n",
      "0021500582 | 113\n",
      "0021500582 | 139\n",
      "0021500582 | 364\n",
      "0021500582 | 407\n"
     ]
    }
   ],
   "source": [
    "print \"LOADING ACTIONS...\"\n",
    "for ekey in ekeys:\n",
    "    for eid in sorted(ekey.keys()):\n",
    "        try:\n",
    "            gid = ekey[eid]['gameid']\n",
    "            action = load_action(gid, eid)\n",
    "            _dtw  = get_DTW(action)\n",
    "            _dist = get_mean_distance(action)\n",
    "            _canon = get_mean_distance_from_cannonical_position(action)\n",
    "            _entp = get_entropy(action)\n",
    "            dtw.append(_dtw)\n",
    "            canon.append(_canon)\n",
    "            dist.append(_dist)\n",
    "            entp.append(_entp)\n",
    "            X.append(_dtw + _entp)\n",
    "            y.append(int(action.label))\n",
    "        except Exception:\n",
    "            print gid + \" | \" + str(eid)\n",
    "X = np.matrix(X)\n",
    "y = np.array(y)"
   ]
  },
  {
   "cell_type": "code",
   "execution_count": 65,
   "metadata": {
    "collapsed": false,
    "deletable": true,
    "editable": true
   },
   "outputs": [],
   "source": [
    "zone_dtw = [dtw[index] for index, value in enumerate(y) if value == -1]\n",
    "man_dtw = [dtw[index] for index, value in enumerate(y) if value == 1]\n",
    "\n",
    "zone_canon = [canon[index] for index, value in enumerate(y) if value == -1]\n",
    "man_canon = [canon[index] for index, value in enumerate(y) if value == 1]\n",
    "\n",
    "zone_dist = [dist[index] for index, value in enumerate(y) if value == -1]\n",
    "man_dist = [dist[index] for index, value in enumerate(y) if value == 1]\n",
    "\n",
    "zone_entp = [entp[index] for index, value in enumerate(y) if value == -1]\n",
    "man_entp = [entp[index] for index, value in enumerate(y) if value == 1]"
   ]
  },
  {
   "cell_type": "code",
   "execution_count": 23,
   "metadata": {
    "collapsed": false
   },
   "outputs": [
    {
     "data": {
      "text/plain": [
       "array([  8.88964387,   9.7513974 ,   8.65123689,   5.60182999,\n",
       "         9.4482918 ,   9.43850024,   8.95858409,   8.50213733,\n",
       "         8.25511415,  10.43330826,   9.14469374,   9.30804467,\n",
       "         8.24360681,  10.0109516 ,  11.69210873,   7.46889886,\n",
       "         8.57233883,   9.2970277 ,   9.81475601,  11.86376812,\n",
       "         8.61700789,  15.27802871,  12.82153081,   9.56683941,\n",
       "         7.32842773,   7.30592401,   9.33701324,   6.18350016,\n",
       "        15.0400794 ,   7.90434009,  12.28197628,   7.56593793,\n",
       "        12.74957401,   9.47418933,   7.24787204,  11.42195168,\n",
       "        13.88906359,   9.47545785,   9.38204108,   6.03965164,\n",
       "         9.30460263,   6.97379405,   8.87584554,  10.31361209,\n",
       "         8.48583954,   6.87352532,  12.04051   ,  12.68474454,\n",
       "        10.60392998,  11.0473864 ,   7.93103269,   6.61493882,\n",
       "         6.92865295,  16.37186902,  15.81139976,   7.94428294,\n",
       "        10.16691866,  11.15245635,  12.38943711,   6.45884971,\n",
       "        10.44603434,  10.97979772,   9.85401353,   7.77824231,\n",
       "        12.43380772,   9.544382  ,   9.43060029,  11.45148481,\n",
       "         9.63071018,  12.77113005,   9.08940091,   9.05837993,\n",
       "         8.85315608,  10.00091973,   7.48643814,   6.95727832,\n",
       "         6.28824997,  19.32626046,   7.66286005,  14.13218631,\n",
       "        11.728427  ,  12.47318114])"
      ]
     },
     "execution_count": 23,
     "metadata": {},
     "output_type": "execute_result"
    }
   ],
   "source": [
    "np.mean(man_dist, axis=1)"
   ]
  },
  {
   "cell_type": "code",
   "execution_count": 83,
   "metadata": {
    "collapsed": false
   },
   "outputs": [
    {
     "data": {
      "text/plain": [
       "2967.8720392201617"
      ]
     },
     "execution_count": 83,
     "metadata": {},
     "output_type": "execute_result"
    }
   ],
   "source": [
    "np.mean(zone_dtw[0])"
   ]
  },
  {
   "cell_type": "code",
   "execution_count": 87,
   "metadata": {
    "collapsed": false,
    "deletable": true,
    "editable": true,
    "scrolled": true
   },
   "outputs": [
    {
     "data": {
      "image/png": "[encoded data removed]",
      "text/plain": [
       "<matplotlib.figure.Figure at 0x10f49b6d0>"
      ]
     },
     "metadata": {},
     "output_type": "display_data"
    }
   ],
   "source": [
    "import matplotlib.pyplot as plt\n",
    "%matplotlib inline\n",
    "plt.plot(np.mean(zone_dist, axis=1), [2 for i in zone_entp], 'ro', alpha=0.3)\n",
    "plt.plot(np.mean(man_dist, axis=1), [2.1 for i in man_entp], 'bo', alpha=0.3)\n",
    "\n",
    "#plt.plot(np.mean(zone_canon, axis=1)[:45], [1 for i in zone_entp][:45], 'ro', alpha=0.1)\n",
    "#plt.plot(np.mean(man_canon, axis=1)[:45], [1.1 for i in man_entp][:45], 'bo', alpha=0.1)\n",
    "plt.ylim((-1,3))\n",
    "plt.show()"
   ]
  },
  {
   "cell_type": "code",
   "execution_count": 123,
   "metadata": {
    "collapsed": false
   },
   "outputs": [
    {
     "data": {
      "image/png": "[encoded data removed]",
      "text/plain": [
       "<matplotlib.figure.Figure at 0x10c7ef190>"
      ]
     },
     "metadata": {},
     "output_type": "display_data"
    }
   ],
   "source": [
    "import matplotlib.pyplot as plt\n",
    "%matplotlib inline\n",
    "plt.plot(np.median(zone_dist, axis=1), np.mean(zone_canon, axis=1), 'r.', alpha=0.3)\n",
    "plt.plot(np.median(man_dist, axis=1), np.mean(man_canon, axis=1), 'b.', alpha=0.3)\n",
    "\n",
    "#plt.plot(np.mean(zone_canon, axis=1)[:45], [1 for i in zone_entp][:45], 'ro', alpha=0.1)\n",
    "#plt.plot(np.mean(man_canon, axis=1)[:45], [1.1 for i in man_entp][:45], 'bo', alpha=0.1)\n",
    "# plt.ylim((-1,3))\n",
    "plt.show()"
   ]
  },
  {
   "cell_type": "code",
   "execution_count": 129,
   "metadata": {
    "collapsed": false
   },
   "outputs": [
    {
     "data": {
      "text/plain": [
       "matrix([[  8.88964387,   3.0221562 ],\n",
       "        [  9.7513974 ,   5.2061474 ],\n",
       "        [  8.65123689,   5.35257546],\n",
       "        [  5.60182999,   3.15229193],\n",
       "        [  9.4482918 ,   5.8438287 ],\n",
       "        [  9.43850024,   4.94830205],\n",
       "        [  8.95858409,   3.15771423],\n",
       "        [  8.50213733,   4.49769047],\n",
       "        [  8.25511415,   3.99648888],\n",
       "        [ 10.43330826,   4.81033722],\n",
       "        [ 12.98271996,   9.7110694 ],\n",
       "        [ 13.29445281,   8.24545469],\n",
       "        [ 11.16350203,   5.55744751],\n",
       "        [  9.14469374,   4.40254043],\n",
       "        [ 11.78350464,   7.99576262],\n",
       "        [  9.30804467,   3.84547905],\n",
       "        [ 14.53006204,   9.69158254],\n",
       "        [  8.24360681,   3.81650654],\n",
       "        [ 10.0109516 ,  12.62208355],\n",
       "        [ 11.69210873,   5.41370791],\n",
       "        [  7.46889886,   3.70861321],\n",
       "        [  8.57233883,   3.82064839],\n",
       "        [ 12.00421941,   6.43959419],\n",
       "        [ 13.55812012,   8.78981824],\n",
       "        [ 11.23125162,   6.47564582],\n",
       "        [ 12.32273469,   7.88076987],\n",
       "        [ 14.9127469 ,   8.38340837],\n",
       "        [ 13.0483313 ,   6.93861921],\n",
       "        [  9.2970277 ,   4.59043318],\n",
       "        [  9.81475601,   4.53748662],\n",
       "        [ 11.86376812,   6.3612013 ],\n",
       "        [  8.61700789,   3.73675892],\n",
       "        [ 15.27802871,   8.77593312],\n",
       "        [ 12.82153081,   7.16222328],\n",
       "        [  9.56683941,   4.92192425],\n",
       "        [  7.32842773,   3.65934286],\n",
       "        [  7.30592401,   2.60113445],\n",
       "        [  9.33701324,   4.99555476],\n",
       "        [  6.18350016,   3.40813769],\n",
       "        [ 15.0400794 ,   9.67269491],\n",
       "        [  7.90434009,   3.73150566],\n",
       "        [ 12.28197628,   6.88420401],\n",
       "        [  7.56593793,   4.5094801 ],\n",
       "        [ 12.08435218,   6.2784868 ],\n",
       "        [ 15.20566287,   9.04939275],\n",
       "        [ 12.74957401,   7.32482701],\n",
       "        [ 11.2692749 ,   5.55022899],\n",
       "        [ 20.7616866 ,  19.21688331],\n",
       "        [ 11.11235339,   6.14889778],\n",
       "        [  9.47418933,   4.93542836],\n",
       "        [  7.24787204,   3.29890739],\n",
       "        [ 14.7688255 ,   9.58922989],\n",
       "        [ 11.42195168,   5.91911539],\n",
       "        [ 12.63072819,   8.88344472],\n",
       "        [ 17.52291287,  12.84473606],\n",
       "        [ 15.03146379,  10.09582102],\n",
       "        [ 13.88906359,   9.93074442],\n",
       "        [ 15.45769568,   9.74203808],\n",
       "        [ 16.7457595 ,  10.89471547],\n",
       "        [ 15.43758895,  10.19040626],\n",
       "        [ 13.0621503 ,   7.86875238],\n",
       "        [ 10.75353403,   7.73471883],\n",
       "        [ 15.72578516,  10.45163854],\n",
       "        [  9.84355055,   2.95140744],\n",
       "        [ 10.88210878,   4.99504915],\n",
       "        [ 11.27936127,  13.60308147],\n",
       "        [ 14.55212314,   8.79377717],\n",
       "        [  9.91912735,   6.62617945],\n",
       "        [  9.47545785,   7.07909628],\n",
       "        [  8.37593307,   6.02553661],\n",
       "        [ 10.30739072,   5.12100668],\n",
       "        [  9.38204108,   4.09295501],\n",
       "        [  6.03965164,   5.12604831],\n",
       "        [  9.30460263,   4.26663692],\n",
       "        [  6.97379405,   3.2586279 ],\n",
       "        [  8.87584554,   3.54872583],\n",
       "        [ 10.31361209,   4.98472099],\n",
       "        [  8.48583954,   3.52362738],\n",
       "        [  6.87352532,   4.78138417],\n",
       "        [ 14.59863729,   7.86293216],\n",
       "        [ 14.14414341,   8.92335785],\n",
       "        [ 11.79760829,   8.52329046],\n",
       "        [ 14.46172474,   9.77907144],\n",
       "        [ 11.53474735,   6.80548809],\n",
       "        [ 18.19319367,  12.5137618 ],\n",
       "        [ 12.04051   ,   6.42453113],\n",
       "        [ 13.83013871,   8.89263209],\n",
       "        [ 12.68474454,   7.94629958],\n",
       "        [ 10.60392998,   5.0362839 ],\n",
       "        [ 11.0473864 ,   6.16425897],\n",
       "        [  7.93103269,   4.19561126],\n",
       "        [  6.61493882,   2.47297388],\n",
       "        [  6.92865295,   3.41087128],\n",
       "        [ 16.37186902,   8.64669991],\n",
       "        [ 15.81139976,  12.13455507],\n",
       "        [  7.94428294,   3.46342574],\n",
       "        [ 10.16691866,   6.95691601],\n",
       "        [ 11.15245635,   8.08112255],\n",
       "        [ 12.38943711,   5.79786518],\n",
       "        [  6.45884971,   3.49978952],\n",
       "        [ 10.44603434,   7.07533921],\n",
       "        [ 10.87443498,   6.15371459],\n",
       "        [ 10.97979772,   5.87065373],\n",
       "        [  9.85401353,   5.17469168],\n",
       "        [  7.77824231,   4.62954568],\n",
       "        [ 12.43380772,   7.80386791],\n",
       "        [  9.544382  ,   3.61620444],\n",
       "        [  9.43060029,   5.15373698],\n",
       "        [ 11.45148481,   5.20708334],\n",
       "        [  9.63071018,   7.08194573],\n",
       "        [ 12.77113005,   7.27529986],\n",
       "        [  9.08940091,   4.88312326],\n",
       "        [  9.05837993,   4.78267032],\n",
       "        [ 18.5978201 ,  13.28494331],\n",
       "        [  8.85315608,   4.48666738],\n",
       "        [ 15.74340473,   9.97060096],\n",
       "        [ 11.72833799,   7.76386289],\n",
       "        [ 10.00091973,   4.08005271],\n",
       "        [  7.48643814,   4.02861838],\n",
       "        [  9.65376841,   6.78537851],\n",
       "        [ 10.39302084,   6.11855965],\n",
       "        [  6.95727832,   3.6336085 ],\n",
       "        [ 15.37194572,   8.86151065],\n",
       "        [ 16.11923364,  10.83232497],\n",
       "        [ 11.45536185,   7.28720884],\n",
       "        [ 12.59650555,   7.93986024],\n",
       "        [ 11.85629437,   5.19278074],\n",
       "        [  6.28824997,   3.10262397],\n",
       "        [ 19.32626046,  14.31192453],\n",
       "        [  7.66286005,   5.87901921],\n",
       "        [ 11.59800812,   6.33034423],\n",
       "        [ 14.13218631,   7.90452489],\n",
       "        [ 11.728427  ,   6.41629226],\n",
       "        [ 12.47318114,   6.53306871],\n",
       "        [ 16.26960469,  11.36627199],\n",
       "        [ 15.85951854,  12.0453125 ],\n",
       "        [ 10.97279609,   7.39353295]])"
      ]
     },
     "execution_count": 129,
     "metadata": {},
     "output_type": "execute_result"
    }
   ],
   "source": [
    "X = []\n",
    "for index in range(len(dist)):\n",
    "    X.append([np.mean(dist[index]), np.mean(canon[index])])\n",
    "X = np.matrix(X)\n",
    "X"
   ]
  },
  {
   "cell_type": "code",
   "execution_count": 78,
   "metadata": {
    "collapsed": false
   },
   "outputs": [
    {
     "data": {
      "image/png": "[encoded data removed]",
      "text/plain": [
       "<matplotlib.figure.Figure at 0x11062dc50>"
      ]
     },
     "metadata": {},
     "output_type": "display_data"
    }
   ],
   "source": [
    "import matplotlib.pyplot as plt\n",
    "%matplotlib inline\n",
    "#plt.plot(zone_dtw[:45], [2 for i in zone_entp][:45], 'ro', alpha=0.1)\n",
    "#plt.plot(man_dtw[:45], [2.1 for i in man_entp][:45], 'bo', alpha=0.1)\n",
    "\n",
    "plt.plot(np.mean(zone_canon, axis=1), [1 for i in zone_entp], 'ro', alpha=0.3)\n",
    "plt.plot(np.mean(man_canon, axis=1), [1.1 for i in man_entp], 'bo', alpha=0.3)\n",
    "plt.ylim((-1,3))\n",
    "plt.show()"
   ]
  },
  {
   "cell_type": "code",
   "execution_count": 141,
   "metadata": {
    "collapsed": false,
    "deletable": true,
    "editable": true
   },
   "outputs": [
    {
     "name": "stdout",
     "output_type": "stream",
     "text": [
      "SPLITTING DATA...\n"
     ]
    }
   ],
   "source": [
    "print \"SPLITTING DATA...\"\n",
    "X_train, X_test, y_train, y_test = train_test_split(X, y, test_size=0.4)"
   ]
  },
  {
   "cell_type": "code",
   "execution_count": 142,
   "metadata": {
    "collapsed": false,
    "deletable": true,
    "editable": true
   },
   "outputs": [
    {
     "name": "stdout",
     "output_type": "stream",
     "text": [
      "BUILDING MODEL...\n"
     ]
    },
    {
     "data": {
      "text/plain": [
       "[(-1, -1),\n",
       " (1, 1),\n",
       " (-1, 1),\n",
       " (1, -1),\n",
       " (1, -1),\n",
       " (-1, 1),\n",
       " (1, 1),\n",
       " (1, 1),\n",
       " (-1, -1),\n",
       " (1, -1),\n",
       " (1, 1),\n",
       " (1, 1),\n",
       " (1, 1),\n",
       " (-1, -1),\n",
       " (1, 1),\n",
       " (-1, -1),\n",
       " (1, 1),\n",
       " (1, 1),\n",
       " (-1, -1),\n",
       " (1, 1),\n",
       " (-1, -1),\n",
       " (1, 1),\n",
       " (-1, -1),\n",
       " (-1, -1),\n",
       " (-1, 1),\n",
       " (-1, -1),\n",
       " (-1, 1),\n",
       " (1, 1),\n",
       " (-1, -1),\n",
       " (1, 1),\n",
       " (1, 1),\n",
       " (1, 1),\n",
       " (1, 1),\n",
       " (-1, 1),\n",
       " (1, 1),\n",
       " (1, -1),\n",
       " (1, -1),\n",
       " (-1, 1),\n",
       " (1, 1),\n",
       " (-1, 1),\n",
       " (-1, 1),\n",
       " (-1, -1),\n",
       " (-1, -1),\n",
       " (1, 1),\n",
       " (1, 1),\n",
       " (1, 1),\n",
       " (1, 1),\n",
       " (1, 1),\n",
       " (1, 1),\n",
       " (1, -1),\n",
       " (1, 1),\n",
       " (-1, -1),\n",
       " (1, -1),\n",
       " (1, 1),\n",
       " (-1, -1)]"
      ]
     },
     "execution_count": 142,
     "metadata": {},
     "output_type": "execute_result"
    }
   ],
   "source": [
    "print \"BUILDING MODEL...\"\n",
    "clf = SVC()\n",
    "clf.fit(X_train, y_train)\n",
    "y_pred = [clf.predict(x)[0] for x in X_test]\n",
    "zip(y_pred, y_test)"
   ]
  },
  {
   "cell_type": "code",
   "execution_count": 143,
   "metadata": {
    "collapsed": false,
    "deletable": true,
    "editable": true
   },
   "outputs": [
    {
     "name": "stdout",
     "output_type": "stream",
     "text": [
      "SHOWING METRICS...\n",
      "[[14  7]\n",
      " [ 8 26]]\n",
      "0.727272727273\n"
     ]
    }
   ],
   "source": [
    "print \"SHOWING METRICS...\"\n",
    "print confusion_matrix(y_test, y_pred)\n",
    "print clf.score(X_test, y_test)"
   ]
  },
  {
   "cell_type": "code",
   "execution_count": null,
   "metadata": {
    "collapsed": true
   },
   "outputs": [],
   "source": [
    "\n",
    "\n",
    "print \"SHOWING METRICS...\"\n",
    "print confusion_matrix(y_test, y_pred)\n",
    "print clf.score(X_test, y_test)"
   ]
  }
 ],
 "metadata": {
  "kernelspec": {
   "display_name": "Python 2",
   "language": "python",
   "name": "python2"
  },
  "language_info": {
   "codemirror_mode": {
    "name": "ipython",
    "version": 2
   },
   "file_extension": ".py",
   "mimetype": "text/x-python",
   "name": "python",
   "nbconvert_exporter": "python",
   "pygments_lexer": "ipython2",
   "version": "2.7.6"
  }
 },
 "nbformat": 4,
 "nbformat_minor": 0
}
