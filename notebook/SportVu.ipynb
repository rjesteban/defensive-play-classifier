{
 "cells": [
  {
   "cell_type": "markdown",
   "metadata": {},
   "source": [
    "# SportVU data EDA  \n"
   ]
  },
  {
   "cell_type": "code",
   "execution_count": null,
   "metadata": {
    "collapsed": false
   },
   "outputs": [],
   "source": [
    "import json\n",
    "\n",
    "PATH = 'data/sportvu/'\n",
    "ids = ['0021500316', '0021500270', '0021500149', '0021500198',\n",
    "       '0021500428', '0021500350', '0021500336', '0021500476', '0021500582']\n",
    "\n",
    "\n",
    "positions = []\n",
    "for id in ids:\n",
    "    data = json.load(open(PATH + id + '.json'))\n",
    "    players = (data['events'][0]['home']['players'] +\n",
    "               data['events'][0]['visitor']['players'])\n",
    "    pos = [str(p['position']) for p in players]\n",
    "    for p in pos:\n",
    "        positions.append(p)\n",
    "\n",
    "print sorted(set(positions))\n",
    "\n",
    "# This produces the list of positions of the players in NBA. Notice that some players could play more than 1 position.\n",
    "\n",
    "# ['C', 'C-F', 'F', 'F-C', 'F-G', 'G', 'G-F']"
   ]
  }
 ],
 "metadata": {
  "kernelspec": {
   "display_name": "Python 2",
   "language": "python",
   "name": "python2"
  },
  "language_info": {
   "codemirror_mode": {
    "name": "ipython",
    "version": 2
   },
   "file_extension": ".py",
   "mimetype": "text/x-python",
   "name": "python",
   "nbconvert_exporter": "python",
   "pygments_lexer": "ipython2",
   "version": "2.7.10"
  }
 },
 "nbformat": 4,
 "nbformat_minor": 0
}
