{
 "cells": [
  {
   "cell_type": "code",
   "execution_count": 1,
   "metadata": {
    "collapsed": false,
    "deletable": true,
    "editable": true
   },
   "outputs": [],
   "source": [
    "from metrics.evaluation import cross_validate_stratify, present_metrics\n",
    "from sklearn import preprocessing\n",
    "from sklearn.cross_validation import StratifiedShuffleSplit, StratifiedKFold\n",
    "from sklearn.metrics import confusion_matrix\n",
    "from sklearn.svm import SVC\n",
    "from sklearn.svm import SVC\n",
    "\n",
    "import pandas as pd\n",
    "import numpy as np\n",
    "import pandas as pd\n",
    "import numpy as np"
   ]
  },
  {
   "cell_type": "markdown",
   "metadata": {},
   "source": [
    "using it all together"
   ]
  },
  {
   "cell_type": "code",
   "execution_count": 2,
   "metadata": {
    "collapsed": false
   },
   "outputs": [],
   "source": [
    "label = pd.read_csv(\"data/dataset.csv\")\n",
    "labely = label.iloc[:, 13].values\n",
    "sss = StratifiedShuffleSplit(labely, n_iter=1, test_size=0.4, random_state=0)\n",
    "\n",
    "for train_index, test_index in sss:\n",
    "    train_indices= train_index\n",
    "    test_indices = test_index\n",
    "skf = StratifiedKFold(labely[train_indices], n_folds=3)"
   ]
  },
  {
   "cell_type": "markdown",
   "metadata": {},
   "source": [
    "DATA SET INDIVIDUAL"
   ]
  },
  {
   "cell_type": "code",
   "execution_count": 3,
   "metadata": {
    "collapsed": false
   },
   "outputs": [
    {
     "name": "stdout",
     "output_type": "stream",
     "text": [
      "\n",
      "####### TRAIN GMEAN #######\n",
      "SENSITIVITY: 1.0\n",
      "SPECIFICITY: 1.0\n",
      "MATTHEWS CORR COEF: 1.0\n",
      "GMEAN: 1.0\n",
      "[[43  0]\n",
      " [ 0 10]]\n",
      "\n",
      "####### TEST GMEAN #######\n",
      "SENSITIVITY: 0.736842105263\n",
      "SPECIFICITY: 0.931818181818\n",
      "MATTHEWS CORR COEF: 0.655464300192\n",
      "GMEAN: 0.828615031733\n",
      "[[82  6]\n",
      " [ 5 14]]\n"
     ]
    }
   ],
   "source": [
    "df = pd.read_csv(\"data/datasetindividual.csv\")\n",
    "\n",
    "X = np.matrix(df.iloc[:, range(0, 45)].values)\n",
    "y = df.iloc[:, 45].values\n",
    "\n",
    "svm = SVC(class_weight='balanced', probability=True)\n",
    "\n",
    "result = cross_validate_stratify(svm, X[train_indices], X[test_indices], y[train_indices], y[test_indices], skf)\n",
    "print \"\"\n",
    "\n",
    "gmeani_all = result[\"gmean_model\"]\n",
    "\n",
    "present_metrics(gmeani_all, \"GMEAN\")"
   ]
  },
  {
   "cell_type": "markdown",
   "metadata": {},
   "source": [
    "DATA SET INDIVIDUAL NO VORONOI TESSELLATION"
   ]
  },
  {
   "cell_type": "code",
   "execution_count": 4,
   "metadata": {
    "collapsed": false
   },
   "outputs": [
    {
     "name": "stdout",
     "output_type": "stream",
     "text": [
      "\n",
      "####### TRAIN GMEAN #######\n",
      "SENSITIVITY: 1.0\n",
      "SPECIFICITY: 1.0\n",
      "MATTHEWS CORR COEF: 1.0\n",
      "GMEAN: 1.0\n",
      "[[43  0]\n",
      " [ 0 10]]\n",
      "\n",
      "####### TEST GMEAN #######\n",
      "SENSITIVITY: 0.736842105263\n",
      "SPECIFICITY: 0.931818181818\n",
      "MATTHEWS CORR COEF: 0.655464300192\n",
      "GMEAN: 0.828615031733\n",
      "[[82  6]\n",
      " [ 5 14]]\n"
     ]
    }
   ],
   "source": [
    "df = pd.read_csv(\"data/datasetindividual.csv\")\n",
    "\n",
    "X = np.matrix(df.iloc[:, range(0, 45)].values)\n",
    "y = df.iloc[:, 45].values\n",
    "\n",
    "svm = SVC(class_weight='balanced', probability=True)\n",
    "\n",
    "result = cross_validate_stratify(svm, X[train_indices], X[test_indices], y[train_indices], y[test_indices], skf)\n",
    "print \"\"\n",
    "\n",
    "gmeani_novoronoi = result[\"gmean_model\"]\n",
    "present_metrics(gmeani_novoronoi, \"GMEAN\")"
   ]
  },
  {
   "cell_type": "markdown",
   "metadata": {},
   "source": [
    "DATA SET ALL MEAN"
   ]
  },
  {
   "cell_type": "code",
   "execution_count": 5,
   "metadata": {
    "collapsed": false
   },
   "outputs": [
    {
     "name": "stdout",
     "output_type": "stream",
     "text": [
      "\n",
      "####### TRAIN GMEAN #######\n",
      "SENSITIVITY: 1.0\n",
      "SPECIFICITY: 0.977272727273\n",
      "MATTHEWS CORR COEF: 0.94256551606\n",
      "GMEAN: 0.988571053224\n",
      "[[43  1]\n",
      " [ 0 10]]\n",
      "\n",
      "####### TEST GMEAN #######\n",
      "SENSITIVITY: 0.842105263158\n",
      "SPECIFICITY: 0.909090909091\n",
      "MATTHEWS CORR COEF: 0.688219281399\n",
      "GMEAN: 0.87495727852\n",
      "[[80  8]\n",
      " [ 3 16]]\n"
     ]
    }
   ],
   "source": [
    "df = pd.read_csv(\"data/dataset.csv\")\n",
    "\n",
    "X = np.matrix(df.iloc[:, range(0, 13)].values)\n",
    "y = df.iloc[:, 13].values\n",
    "\n",
    "svm = SVC(class_weight='balanced', probability=True)\n",
    "\n",
    "result = cross_validate_stratify(svm, X[train_indices], X[test_indices], y[train_indices], y[test_indices], skf)\n",
    "print \"\"\n",
    "\n",
    "gmeanm_all = result[\"gmean_model\"]\n",
    "\n",
    "present_metrics(gmeanm_all, \"GMEAN\")"
   ]
  },
  {
   "cell_type": "markdown",
   "metadata": {},
   "source": [
    "DATA SET ALL MEAN NO VORONOI"
   ]
  },
  {
   "cell_type": "code",
   "execution_count": 6,
   "metadata": {
    "collapsed": false,
    "scrolled": true
   },
   "outputs": [
    {
     "name": "stdout",
     "output_type": "stream",
     "text": [
      "\n",
      "####### TRAIN GMEAN #######\n",
      "SENSITIVITY: 1.0\n",
      "SPECIFICITY: 0.906976744186\n",
      "MATTHEWS CORR COEF: 0.804885415175\n",
      "GMEAN: 0.952353266486\n",
      "[[39  4]\n",
      " [ 0 10]]\n",
      "\n",
      "####### TEST GMEAN #######\n",
      "SENSITIVITY: 0.894736842105\n",
      "SPECIFICITY: 0.863636363636\n",
      "MATTHEWS CORR COEF: 0.652010840824\n",
      "GMEAN: 0.879049072992\n",
      "[[76 12]\n",
      " [ 2 17]]\n"
     ]
    }
   ],
   "source": [
    "df = pd.read_csv(\"data/dataset.csv\")\n",
    "\n",
    "X = np.matrix(df.iloc[:, range(0, 8)].values)\n",
    "y = df.iloc[:, 13].values\n",
    "\n",
    "svm = SVC(class_weight='balanced', probability=True)\n",
    "\n",
    "result = cross_validate_stratify(svm, X[train_indices], X[test_indices], y[train_indices], y[test_indices], skf)\n",
    "print \"\"\n",
    "\n",
    "gmeanm_novoronoi = result[\"gmean_model\"]\n",
    "\n",
    "present_metrics(gmeanm_novoronoi, \"GMEAN\")"
   ]
  }
 ],
 "metadata": {
  "kernelspec": {
   "display_name": "Python 2",
   "language": "python",
   "name": "python2"
  },
  "language_info": {
   "codemirror_mode": {
    "name": "ipython",
    "version": 2
   },
   "file_extension": ".py",
   "mimetype": "text/x-python",
   "name": "python",
   "nbconvert_exporter": "python",
   "pygments_lexer": "ipython2",
   "version": "2.7.10"
  }
 },
 "nbformat": 4,
 "nbformat_minor": 0
}
