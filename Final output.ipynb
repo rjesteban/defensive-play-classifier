{
 "cells": [
  {
   "cell_type": "code",
   "execution_count": 1,
   "metadata": {
    "collapsed": false,
    "deletable": true,
    "editable": true
   },
   "outputs": [],
   "source": [
    "from metrics.evaluation import cross_validate_stratify, present_metrics, get_metrics\n",
    "from visualizer.barchart import plot_bar_chart_comparison, plot_bar_chart\n",
    "from sklearn import preprocessing\n",
    "from sklearn.cross_validation import StratifiedShuffleSplit, StratifiedKFold\n",
    "from sklearn.feature_selection import RFE, SelectFromModel\n",
    "from sklearn.metrics import confusion_matrix\n",
    "from sklearn.svm import LinearSVC\n",
    "from sklearn.svm import SVC\n",
    "from sklearn.pipeline import Pipeline\n",
    "\n",
    "\n",
    "import matplotlib\n",
    "import matplotlib.pyplot as plt\n",
    "import numpy as np\n",
    "import pandas as pd\n",
    "% matplotlib inline"
   ]
  },
  {
   "cell_type": "markdown",
   "metadata": {},
   "source": [
    "using it all together"
   ]
  },
  {
   "cell_type": "code",
   "execution_count": 2,
   "metadata": {
    "collapsed": false
   },
   "outputs": [],
   "source": [
    "label = pd.read_csv(\"data/dataset.csv\")\n",
    "labely = label.iloc[:, 13].values\n",
    "sss = StratifiedShuffleSplit(labely, n_iter=1, test_size=0.4, random_state=0)\n",
    "\n",
    "for train_index, test_index in sss:\n",
    "    train_indices= train_index\n",
    "    test_indices = test_index\n",
    "skf = StratifiedKFold(labely[train_indices], n_folds=3)"
   ]
  },
  {
   "cell_type": "markdown",
   "metadata": {},
   "source": [
    "# DATA SET INDIVIDUAL"
   ]
  },
  {
   "cell_type": "code",
   "execution_count": 3,
   "metadata": {
    "collapsed": false
   },
   "outputs": [
    {
     "name": "stdout",
     "output_type": "stream",
     "text": [
      "\n",
      "CROSS VAL SCORES\n",
      "SENSITIVITY: 0.814814814815\n",
      "SPECIFICITY: 0.969168428471\n",
      "MATTHEWS CORR COEF: 0.785953677618\n",
      "GMEAN: 0.877187160928\n",
      "\n",
      "####### TEST GMEAN #######\n",
      "SENSITIVITY: 0.736842105263\n",
      "SPECIFICITY: 0.931818181818\n",
      "MATTHEWS CORR COEF: 0.655464300192\n",
      "GMEAN: 0.828615031733\n",
      "\n",
      "\n",
      "CONFUSION MATRIX\n",
      "14\t5\n",
      "6\t82\n"
     ]
    }
   ],
   "source": [
    "# USING RBF KERNEL\n",
    "df = pd.read_csv(\"data/datasetindividual.csv\")\n",
    "\n",
    "X = np.matrix(df.iloc[:, range(0, 45)].values)\n",
    "y = df.iloc[:, 45].values\n",
    "svm = SVC(class_weight='balanced')\n",
    "\n",
    "resulti_all_rbf = cross_validate_stratify(svm, X[train_indices], X[test_indices], y[train_indices], y[test_indices], skf)\n",
    "print \"\"\n",
    "\n",
    "gmeani_all_rbf = resulti_all_rbf[\"gmean_model\"]\n",
    "\n",
    "print \"CROSS VAL SCORES\"\n",
    "print \"SENSITIVITY: \" + str(resulti_all_rbf[\"sens_cross_val\"])\n",
    "print \"SPECIFICITY: \" + str(resulti_all_rbf[\"spec_cross_val\"])\n",
    "print \"MATTHEWS CORR COEF: \" + str(resulti_all_rbf[\"matt_cross_val\"])\n",
    "print \"GMEAN: \" + str(resulti_all_rbf[\"gmean_cross_val\"])\n",
    "print \"\"\n",
    "present_metrics(gmeani_all_rbf, \"GMEAN\")\n"
   ]
  },
  {
   "cell_type": "markdown",
   "metadata": {},
   "source": [
    "# DATA SET INDIVIDUAL NO VORONOI TESSELLATION"
   ]
  },
  {
   "cell_type": "code",
   "execution_count": 4,
   "metadata": {
    "collapsed": false
   },
   "outputs": [
    {
     "name": "stdout",
     "output_type": "stream",
     "text": [
      "\n",
      "CROSS VAL SCORES\n",
      "SENSITIVITY: 0.814814814815\n",
      "SPECIFICITY: 0.953840732911\n",
      "MATTHEWS CORR COEF: 0.753453678438\n",
      "GMEAN: 0.870636866192\n",
      "\n",
      "####### TEST GMEAN #######\n",
      "SENSITIVITY: 0.789473684211\n",
      "SPECIFICITY: 0.931818181818\n",
      "MATTHEWS CORR COEF: 0.69401730299\n",
      "GMEAN: 0.857698043028\n",
      "\n",
      "\n",
      "CONFUSION MATRIX\n",
      "15\t4\n",
      "6\t82\n"
     ]
    }
   ],
   "source": [
    "# USING RBF KERNEL\n",
    "df = pd.read_csv(\"data/datasetindividual.csv\")\n",
    "\n",
    "X = np.matrix(df.iloc[:, range(0, 40)].values)\n",
    "y = df.iloc[:, 45].values\n",
    "\n",
    "svm = SVC(class_weight='balanced')\n",
    "\n",
    "resulti_novoronoi_rbf = cross_validate_stratify(svm, X[train_indices], X[test_indices], y[train_indices], y[test_indices], skf)\n",
    "print \"\"\n",
    "\n",
    "gmeani_novoronoi_rbf = resulti_novoronoi_rbf[\"gmean_model\"]\n",
    "\n",
    "print \"CROSS VAL SCORES\"\n",
    "print \"SENSITIVITY: \" + str(resulti_novoronoi_rbf[\"sens_cross_val\"])\n",
    "print \"SPECIFICITY: \" + str(resulti_novoronoi_rbf[\"spec_cross_val\"])\n",
    "print \"MATTHEWS CORR COEF: \" + str(resulti_novoronoi_rbf[\"matt_cross_val\"])\n",
    "print \"GMEAN: \" + str(resulti_novoronoi_rbf[\"gmean_cross_val\"])\n",
    "print \"\"\n",
    "present_metrics(gmeani_novoronoi_rbf, \"GMEAN\")"
   ]
  },
  {
   "cell_type": "markdown",
   "metadata": {},
   "source": [
    "# DATA SET ALL MEAN"
   ]
  },
  {
   "cell_type": "code",
   "execution_count": 5,
   "metadata": {
    "collapsed": false
   },
   "outputs": [
    {
     "name": "stdout",
     "output_type": "stream",
     "text": [
      "\n",
      "CROSS VAL SCORES\n",
      "SENSITIVITY: 0.851851851852\n",
      "SPECIFICITY: 0.922656800564\n",
      "MATTHEWS CORR COEF: 0.724616376397\n",
      "GMEAN: 0.881486099966\n",
      "\n",
      "####### TEST GMEAN #######\n",
      "SENSITIVITY: 0.842105263158\n",
      "SPECIFICITY: 0.909090909091\n",
      "MATTHEWS CORR COEF: 0.688219281399\n",
      "GMEAN: 0.87495727852\n",
      "\n",
      "\n",
      "CONFUSION MATRIX\n",
      "16\t3\n",
      "8\t80\n"
     ]
    }
   ],
   "source": [
    "# USING RBF KERNEL\n",
    "df = pd.read_csv(\"data/dataset.csv\")\n",
    "\n",
    "X = np.matrix(df.iloc[:, range(0, 13)].values)\n",
    "y = df.iloc[:, 13].values\n",
    "\n",
    "svm = SVC(class_weight='balanced')\n",
    "\n",
    "resultm_all_rbf = cross_validate_stratify(svm, X[train_indices], X[test_indices], y[train_indices], y[test_indices], skf)\n",
    "print \"\"\n",
    "\n",
    "gmeanm_all_rbf = resultm_all_rbf[\"gmean_model\"]\n",
    "\n",
    "print \"CROSS VAL SCORES\"\n",
    "print \"SENSITIVITY: \" + str(resultm_all_rbf[\"sens_cross_val\"])\n",
    "print \"SPECIFICITY: \" + str(resultm_all_rbf[\"spec_cross_val\"])\n",
    "print \"MATTHEWS CORR COEF: \" + str(resultm_all_rbf[\"matt_cross_val\"])\n",
    "print \"GMEAN: \" + str(resultm_all_rbf[\"gmean_cross_val\"])\n",
    "print \"\"\n",
    "present_metrics(gmeanm_all_rbf, \"GMEAN\")"
   ]
  },
  {
   "cell_type": "markdown",
   "metadata": {},
   "source": [
    "# DATA SET ALL MEAN NO VORONOI"
   ]
  },
  {
   "cell_type": "code",
   "execution_count": 6,
   "metadata": {
    "collapsed": false
   },
   "outputs": [
    {
     "name": "stdout",
     "output_type": "stream",
     "text": [
      "\n",
      "CROSS VAL SCORES\n",
      "SENSITIVITY: 0.925925925926\n",
      "SPECIFICITY: 0.900105708245\n",
      "MATTHEWS CORR COEF: 0.735967450417\n",
      "GMEAN: 0.911239590881\n",
      "\n",
      "####### TEST GMEAN #######\n",
      "SENSITIVITY: 0.894736842105\n",
      "SPECIFICITY: 0.863636363636\n",
      "MATTHEWS CORR COEF: 0.652010840824\n",
      "GMEAN: 0.879049072992\n",
      "\n",
      "\n",
      "CONFUSION MATRIX\n",
      "17\t2\n",
      "12\t76\n"
     ]
    }
   ],
   "source": [
    "# USING RBF KERNEL\n",
    "df = pd.read_csv(\"data/dataset.csv\")\n",
    "\n",
    "X = np.matrix(df.iloc[:, range(0, 8)].values)\n",
    "y = df.iloc[:, 13].values\n",
    "\n",
    "\n",
    "svm = SVC(class_weight='balanced')\n",
    "\n",
    "resultm_novoronoi_rbf = cross_validate_stratify(svm, X[train_indices], X[test_indices], y[train_indices], y[test_indices], skf)\n",
    "print \"\"\n",
    "\n",
    "gmeanm_novoronoi_rbf = resultm_novoronoi_rbf[\"gmean_model\"]\n",
    "\n",
    "print \"CROSS VAL SCORES\"\n",
    "print \"SENSITIVITY: \" + str(resultm_novoronoi_rbf[\"sens_cross_val\"])\n",
    "print \"SPECIFICITY: \" + str(resultm_novoronoi_rbf[\"spec_cross_val\"])\n",
    "print \"MATTHEWS CORR COEF: \" + str(resultm_novoronoi_rbf[\"matt_cross_val\"])\n",
    "print \"GMEAN: \" + str(resultm_novoronoi_rbf[\"gmean_cross_val\"])\n",
    "print \"\"\n",
    "present_metrics(gmeanm_novoronoi_rbf, \"GMEAN\")"
   ]
  },
  {
   "cell_type": "markdown",
   "metadata": {},
   "source": [
    "# DATA SET ALL MEAN WITH FEATURE SELECTION"
   ]
  },
  {
   "cell_type": "code",
   "execution_count": 7,
   "metadata": {
    "collapsed": false
   },
   "outputs": [
    {
     "name": "stdout",
     "output_type": "stream",
     "text": [
      "\n",
      "USED\n",
      "['distance', 'canonical distance', 'distance - canonical', 'entropy', 'distance from post', 'velocity defender', 'velocity offender']\n",
      "UNUSED\n",
      "['time defending']\n",
      "\n",
      "CROSS VAL SCORES\n",
      "SENSITIVITY: 0.925925925926\n",
      "SPECIFICITY: 0.899929527837\n",
      "MATTHEWS CORR COEF: 0.7358976968\n",
      "GMEAN: 0.911141182035\n",
      "\n",
      "####### TEST GMEAN #######\n",
      "SENSITIVITY: 0.894736842105\n",
      "SPECIFICITY: 0.875\n",
      "MATTHEWS CORR COEF: 0.669218362646\n",
      "GMEAN: 0.884813390971\n",
      "\n",
      "\n",
      "CONFUSION MATRIX\n",
      "17\t2\n",
      "11\t77\n"
     ]
    }
   ],
   "source": [
    "svm = Pipeline([('feature_selection', SelectFromModel(LinearSVC(penalty=\"l1\", dual=False))),\n",
    "                ('classification', SVC(class_weight='balanced'))])\n",
    "        \n",
    "result_FE = cross_validate_stratify(svm, X[train_indices], X[test_indices], y[train_indices], y[test_indices], skf)\n",
    "print \"\"\n",
    "\n",
    "features = svm.named_steps['feature_selection'].get_support()\n",
    "\n",
    "print \"USED\"\n",
    "feat_i = [i for i, used in enumerate(features) if used]\n",
    "unused_feat_i = [i for i, used in enumerate(features) if not used]\n",
    "print [df.keys()[i] for i in feat_i]\n",
    "\n",
    "print \"UNUSED\"\n",
    "print [df.keys()[i] for i in unused_feat_i]\n",
    "print \"\"\n",
    "\n",
    "gmean_FE = result_FE[\"gmean_model\"]\n",
    "\n",
    "print \"CROSS VAL SCORES\"\n",
    "print \"SENSITIVITY: \" + str(result_FE[\"sens_cross_val\"])\n",
    "print \"SPECIFICITY: \" + str(result_FE[\"spec_cross_val\"])\n",
    "print \"MATTHEWS CORR COEF: \" + str(result_FE[\"matt_cross_val\"])\n",
    "print \"GMEAN: \" + str(result_FE[\"gmean_cross_val\"])\n",
    "print \"\"\n",
    "present_metrics(gmean_FE, \"GMEAN\")"
   ]
  },
  {
   "cell_type": "code",
   "execution_count": 8,
   "metadata": {
    "collapsed": false,
    "scrolled": false
   },
   "outputs": [
    {
     "data": {
      "image/png": "[encoded data removed]",
      "text/plain": [
       "<matplotlib.figure.Figure at 0x1e90ae10>"
      ]
     },
     "metadata": {},
     "output_type": "display_data"
    },
    {
     "data": {
      "image/png": "[encoded data removed]",
      "text/plain": [
       "<matplotlib.figure.Figure at 0x1e9142b0>"
      ]
     },
     "metadata": {},
     "output_type": "display_data"
    },
    {
     "data": {
      "image/png": "[encoded data removed]",
      "text/plain": [
       "<matplotlib.figure.Figure at 0x1eb32358>"
      ]
     },
     "metadata": {},
     "output_type": "display_data"
    },
    {
     "data": {
      "image/png": "[encoded data removed]",
      "text/plain": [
       "<matplotlib.figure.Figure at 0x1ed3db70>"
      ]
     },
     "metadata": {},
     "output_type": "display_data"
    }
   ],
   "source": [
    "sensitivity_rbf = ([\n",
    "gmeani_all_rbf[2][0],\n",
    "gmeani_novoronoi_rbf[2][0],\n",
    "gmeanm_all_rbf[2][0],\n",
    "gmeanm_novoronoi_rbf[2][0],\n",
    "gmean_FE[2][0]])\n",
    "\n",
    "specificity_rbf =([\n",
    "gmeani_all_rbf[2][1],\n",
    "gmeani_novoronoi_rbf[2][1],\n",
    "gmeanm_all_rbf[2][1],\n",
    "gmeanm_novoronoi_rbf[2][1],\n",
    "gmean_FE[2][1]\n",
    "])\n",
    "\n",
    "matthews_rbf = ([\n",
    "gmeani_all_rbf[2][2],\n",
    "gmeani_novoronoi_rbf[2][2],\n",
    "gmeanm_all_rbf[2][2],\n",
    "gmeanm_novoronoi_rbf[2][2],\n",
    "gmean_FE[2][2]\n",
    "])\n",
    "\n",
    "gmean_rbf = ([\n",
    "gmeani_all_rbf[2][3],\n",
    "gmeani_novoronoi_rbf[2][3],\n",
    "gmeanm_all_rbf[2][3],\n",
    "gmeanm_novoronoi_rbf[2][3],\n",
    "gmean_FE[2][3]\n",
    "])\n",
    "\n",
    "scores_rbf = [sensitivity_rbf, specificity_rbf, matthews_rbf, gmean_rbf]\n",
    "labels = [\"Sensitivity\", \"Specificity\", \"MCC\", \"G-mean\"]\n",
    "\n",
    "for score_rbf, label in zip(scores_rbf, labels):\n",
    "    plot_bar_chart(label, [\"1\", \"2\", \"3\", \"4\", \"5\"], score_rbf)"
   ]
  }
 ],
 "metadata": {
  "kernelspec": {
   "display_name": "Python 2",
   "language": "python",
   "name": "python2"
  },
  "language_info": {
   "codemirror_mode": {
    "name": "ipython",
    "version": 2
   },
   "file_extension": ".py",
   "mimetype": "text/x-python",
   "name": "python",
   "nbconvert_exporter": "python",
   "pygments_lexer": "ipython2",
   "version": "2.7.10"
  }
 },
 "nbformat": 4,
 "nbformat_minor": 0
}
