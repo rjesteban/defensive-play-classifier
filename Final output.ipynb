{
 "cells": [
  {
   "cell_type": "code",
   "execution_count": 1,
   "metadata": {
    "collapsed": false,
    "deletable": true,
    "editable": true
   },
   "outputs": [],
   "source": [
    "from metrics.evaluation import cross_validate_stratify, present_metrics\n",
    "from sklearn import preprocessing\n",
    "from sklearn.cross_validation import StratifiedShuffleSplit, StratifiedKFold\n",
    "from sklearn.metrics import confusion_matrix\n",
    "from sklearn.svm import SVC\n",
    "from sklearn.svm import SVC\n",
    "\n",
    "import matplotlib\n",
    "import matplotlib.pyplot as plt\n",
    "import numpy as np\n",
    "import pandas as pd\n",
    "% matplotlib inline"
   ]
  },
  {
   "cell_type": "markdown",
   "metadata": {},
   "source": [
    "using it all together"
   ]
  },
  {
   "cell_type": "code",
   "execution_count": 2,
   "metadata": {
    "collapsed": false
   },
   "outputs": [],
   "source": [
    "label = pd.read_csv(\"data/dataset.csv\")\n",
    "labely = label.iloc[:, 13].values\n",
    "sss = StratifiedShuffleSplit(labely, n_iter=1, test_size=0.4, random_state=0)\n",
    "\n",
    "for train_index, test_index in sss:\n",
    "    train_indices= train_index\n",
    "    test_indices = test_index\n",
    "skf = StratifiedKFold(labely[train_indices], n_folds=3)"
   ]
  },
  {
   "cell_type": "markdown",
   "metadata": {},
   "source": [
    "# DATA SET INDIVIDUAL"
   ]
  },
  {
   "cell_type": "code",
   "execution_count": 3,
   "metadata": {
    "collapsed": false
   },
   "outputs": [
    {
     "name": "stdout",
     "output_type": "stream",
     "text": [
      "\n",
      "CROSS VAL SCORES\n",
      "SENSITIVITY: 0.814814814815\n",
      "SPECIFICITY: 0.969168428471\n",
      "MATTHEWS CORR COEF: 0.785953677618\n",
      "GMEAN: 0.877187160928\n",
      "\n",
      "####### TRAIN GMEAN #######\n",
      "SENSITIVITY: 1.0\n",
      "SPECIFICITY: 1.0\n",
      "MATTHEWS CORR COEF: 1.0\n",
      "GMEAN: 1.0\n",
      "\n",
      "\n",
      "CONFUSION MATRIX\n",
      "10\t0\n",
      "0\t43\n",
      "\n",
      "####### TEST GMEAN #######\n",
      "SENSITIVITY: 0.736842105263\n",
      "SPECIFICITY: 0.931818181818\n",
      "MATTHEWS CORR COEF: 0.655464300192\n",
      "GMEAN: 0.828615031733\n",
      "\n",
      "\n",
      "CONFUSION MATRIX\n",
      "14\t5\n",
      "6\t82\n"
     ]
    }
   ],
   "source": [
    "df = pd.read_csv(\"data/datasetindividual.csv\")\n",
    "\n",
    "X = np.matrix(df.iloc[:, range(0, 45)].values)\n",
    "y = df.iloc[:, 45].values\n",
    "\n",
    "svm = SVC(class_weight='balanced', probability=True)\n",
    "\n",
    "resulti_all = cross_validate_stratify(svm, X[train_indices], X[test_indices], y[train_indices], y[test_indices], skf)\n",
    "print \"\"\n",
    "\n",
    "gmeani_all = resulti_all[\"gmean_model\"]\n",
    "\n",
    "print \"CROSS VAL SCORES\"\n",
    "print \"SENSITIVITY: \" + str(resulti_all[\"sens_cross_val\"])\n",
    "print \"SPECIFICITY: \" + str(resulti_all[\"spec_cross_val\"])\n",
    "print \"MATTHEWS CORR COEF: \" + str(resulti_all[\"matt_cross_val\"])\n",
    "print \"GMEAN: \" + str(resulti_all[\"gmean_cross_val\"])\n",
    "print \"\"\n",
    "present_metrics(gmeani_all, \"GMEAN\")"
   ]
  },
  {
   "cell_type": "markdown",
   "metadata": {},
   "source": [
    "# DATA SET INDIVIDUAL NO VORONOI TESSELLATION"
   ]
  },
  {
   "cell_type": "code",
   "execution_count": 4,
   "metadata": {
    "collapsed": false
   },
   "outputs": [
    {
     "name": "stdout",
     "output_type": "stream",
     "text": [
      "\n",
      "CROSS VAL SCORES\n",
      "SENSITIVITY: 0.814814814815\n",
      "SPECIFICITY: 0.953840732911\n",
      "MATTHEWS CORR COEF: 0.753453678438\n",
      "GMEAN: 0.870636866192\n",
      "\n",
      "####### TRAIN GMEAN #######\n",
      "SENSITIVITY: 1.0\n",
      "SPECIFICITY: 1.0\n",
      "MATTHEWS CORR COEF: 1.0\n",
      "GMEAN: 1.0\n",
      "\n",
      "\n",
      "CONFUSION MATRIX\n",
      "10\t0\n",
      "0\t43\n",
      "\n",
      "####### TEST GMEAN #######\n",
      "SENSITIVITY: 0.789473684211\n",
      "SPECIFICITY: 0.931818181818\n",
      "MATTHEWS CORR COEF: 0.69401730299\n",
      "GMEAN: 0.857698043028\n",
      "\n",
      "\n",
      "CONFUSION MATRIX\n",
      "15\t4\n",
      "6\t82\n"
     ]
    }
   ],
   "source": [
    "df = pd.read_csv(\"data/datasetindividual.csv\")\n",
    "\n",
    "X = np.matrix(df.iloc[:, range(0, 40)].values)\n",
    "y = df.iloc[:, 45].values\n",
    "\n",
    "svm = SVC(class_weight='balanced', probability=True)\n",
    "\n",
    "resulti_novoronoi = cross_validate_stratify(svm, X[train_indices], X[test_indices], y[train_indices], y[test_indices], skf)\n",
    "print \"\"\n",
    "\n",
    "gmeani_novoronoi = resulti_novoronoi[\"gmean_model\"]\n",
    "\n",
    "print \"CROSS VAL SCORES\"\n",
    "print \"SENSITIVITY: \" + str(resulti_novoronoi[\"sens_cross_val\"])\n",
    "print \"SPECIFICITY: \" + str(resulti_novoronoi[\"spec_cross_val\"])\n",
    "print \"MATTHEWS CORR COEF: \" + str(resulti_novoronoi[\"matt_cross_val\"])\n",
    "print \"GMEAN: \" + str(resulti_novoronoi[\"gmean_cross_val\"])\n",
    "print \"\"\n",
    "present_metrics(gmeani_novoronoi, \"GMEAN\")"
   ]
  },
  {
   "cell_type": "markdown",
   "metadata": {},
   "source": [
    "# DATA SET ALL MEAN"
   ]
  },
  {
   "cell_type": "code",
   "execution_count": 5,
   "metadata": {
    "collapsed": false
   },
   "outputs": [
    {
     "name": "stdout",
     "output_type": "stream",
     "text": [
      "\n",
      "CROSS VAL SCORES\n",
      "SENSITIVITY: 0.851851851852\n",
      "SPECIFICITY: 0.922656800564\n",
      "MATTHEWS CORR COEF: 0.724616376397\n",
      "GMEAN: 0.881486099966\n",
      "\n",
      "####### TRAIN GMEAN #######\n",
      "SENSITIVITY: 1.0\n",
      "SPECIFICITY: 0.977272727273\n",
      "MATTHEWS CORR COEF: 0.94256551606\n",
      "GMEAN: 0.988571053224\n",
      "\n",
      "\n",
      "CONFUSION MATRIX\n",
      "10\t0\n",
      "1\t43\n",
      "\n",
      "####### TEST GMEAN #######\n",
      "SENSITIVITY: 0.842105263158\n",
      "SPECIFICITY: 0.909090909091\n",
      "MATTHEWS CORR COEF: 0.688219281399\n",
      "GMEAN: 0.87495727852\n",
      "\n",
      "\n",
      "CONFUSION MATRIX\n",
      "16\t3\n",
      "8\t80\n"
     ]
    }
   ],
   "source": [
    "df = pd.read_csv(\"data/dataset.csv\")\n",
    "\n",
    "X = np.matrix(df.iloc[:, range(0, 13)].values)\n",
    "y = df.iloc[:, 13].values\n",
    "\n",
    "svm = SVC(class_weight='balanced', probability=True)\n",
    "\n",
    "resultm_all = cross_validate_stratify(svm, X[train_indices], X[test_indices], y[train_indices], y[test_indices], skf)\n",
    "print \"\"\n",
    "\n",
    "gmeanm_all = resultm_all[\"gmean_model\"]\n",
    "\n",
    "print \"CROSS VAL SCORES\"\n",
    "print \"SENSITIVITY: \" + str(resultm_all[\"sens_cross_val\"])\n",
    "print \"SPECIFICITY: \" + str(resultm_all[\"spec_cross_val\"])\n",
    "print \"MATTHEWS CORR COEF: \" + str(resultm_all[\"matt_cross_val\"])\n",
    "print \"GMEAN: \" + str(resultm_all[\"gmean_cross_val\"])\n",
    "print \"\"\n",
    "present_metrics(gmeanm_all, \"GMEAN\")"
   ]
  },
  {
   "cell_type": "markdown",
   "metadata": {},
   "source": [
    "# DATA SET ALL MEAN NO VORONOI"
   ]
  },
  {
   "cell_type": "code",
   "execution_count": 6,
   "metadata": {
    "collapsed": false
   },
   "outputs": [
    {
     "name": "stdout",
     "output_type": "stream",
     "text": [
      "\n",
      "CROSS VAL SCORES\n",
      "SENSITIVITY: 0.925925925926\n",
      "SPECIFICITY: 0.900105708245\n",
      "MATTHEWS CORR COEF: 0.735967450417\n",
      "GMEAN: 0.911239590881\n",
      "\n",
      "####### TRAIN GMEAN #######\n",
      "SENSITIVITY: 1.0\n",
      "SPECIFICITY: 0.906976744186\n",
      "MATTHEWS CORR COEF: 0.804885415175\n",
      "GMEAN: 0.952353266486\n",
      "\n",
      "\n",
      "CONFUSION MATRIX\n",
      "10\t0\n",
      "4\t39\n",
      "\n",
      "####### TEST GMEAN #######\n",
      "SENSITIVITY: 0.894736842105\n",
      "SPECIFICITY: 0.863636363636\n",
      "MATTHEWS CORR COEF: 0.652010840824\n",
      "GMEAN: 0.879049072992\n",
      "\n",
      "\n",
      "CONFUSION MATRIX\n",
      "17\t2\n",
      "12\t76\n"
     ]
    }
   ],
   "source": [
    "df = pd.read_csv(\"data/dataset.csv\")\n",
    "\n",
    "X = np.matrix(df.iloc[:, range(0, 8)].values)\n",
    "y = df.iloc[:, 13].values\n",
    "\n",
    "svm = SVC(class_weight='balanced', probability=True)\n",
    "\n",
    "resultm_novoronoi = cross_validate_stratify(svm, X[train_indices], X[test_indices], y[train_indices], y[test_indices], skf)\n",
    "print \"\"\n",
    "\n",
    "gmeanm_novoronoi = resultm_novoronoi[\"gmean_model\"]\n",
    "\n",
    "print \"CROSS VAL SCORES\"\n",
    "print \"SENSITIVITY: \" + str(resultm_novoronoi[\"sens_cross_val\"])\n",
    "print \"SPECIFICITY: \" + str(resultm_novoronoi[\"spec_cross_val\"])\n",
    "print \"MATTHEWS CORR COEF: \" + str(resultm_novoronoi[\"matt_cross_val\"])\n",
    "print \"GMEAN: \" + str(resultm_novoronoi[\"gmean_cross_val\"])\n",
    "print \"\"\n",
    "present_metrics(gmeanm_novoronoi, \"GMEAN\")"
   ]
  },
  {
   "cell_type": "markdown",
   "metadata": {},
   "source": [
    "#### DATA SET INDIVIDUAL  \n",
    "SENSITIVITY: 0.736842105263  \n",
    "SPECIFICITY: 0.931818181818  \n",
    "MATTHEWS CORR COEF: 0.655464300192  \n",
    "GMEAN: 0.828615031733  \n",
    "  \n",
    "      \n",
    "#### DATA SET INDIVIDUAL NO VORONOI TESSELLATION  \n",
    "SENSITIVITY: 0.789473684211  \n",
    "SPECIFICITY: 0.931818181818  \n",
    "MATTHEWS CORR COEF: 0.69401730299  \n",
    "GMEAN: 0.857698043028  \n",
    "  \n",
    "#### DATA SET ALL MEAN  \n",
    "SENSITIVITY: 0.842105263158  \n",
    "SPECIFICITY: 0.909090909091  \n",
    "MATTHEWS CORR COEF: 0.688219281399  \n",
    "GMEAN: 0.87495727852  \n",
    "  \n",
    "#### DATA SET ALL MEAN NO VORONOI  \n",
    "SENSITIVITY: 0.894736842105  \n",
    "SPECIFICITY: 0.863636363636  \n",
    "MATTHEWS CORR COEF: 0.652010840824  \n",
    "GMEAN: 0.879049072992  "
   ]
  },
  {
   "cell_type": "code",
   "execution_count": 7,
   "metadata": {
    "collapsed": false
   },
   "outputs": [
    {
     "data": {
      "image/png": "[encoded data removed]",
      "text/plain": [
       "<matplotlib.figure.Figure at 0x415def0>"
      ]
     },
     "metadata": {},
     "output_type": "display_data"
    }
   ],
   "source": [
    "labels = ('AI', 'AINV', 'AM', 'AMNV')\n",
    "y_pos = np.arange(len(labels))\n",
    "performance = [gmeani_all[2][0], gmeani_novoronoi[2][0], gmeanm_all[2][0], gmeanm_novoronoi[2][0]]\n",
    " \n",
    "plt.bar(y_pos, performance, align='center', alpha=0.5, color='k')\n",
    "plt.xticks(y_pos, labels)\n",
    "plt.ylabel('Usage')\n",
    "plt.title('Sensitivity Scores')\n",
    " \n",
    "plt.show()"
   ]
  },
  {
   "cell_type": "code",
   "execution_count": 8,
   "metadata": {
    "collapsed": false
   },
   "outputs": [
    {
     "data": {
      "image/png": "[encoded data removed]",
      "text/plain": [
       "<matplotlib.figure.Figure at 0x4199978>"
      ]
     },
     "metadata": {},
     "output_type": "display_data"
    }
   ],
   "source": [
    "labels = ('AI', 'AINV', 'AM', 'AMNV')\n",
    "y_pos = np.arange(len(labels))\n",
    "performance = [gmeani_all[2][1], gmeani_novoronoi[2][1], gmeanm_all[2][1], gmeanm_novoronoi[2][1]]\n",
    " \n",
    "plt.bar(y_pos, performance, align='center', alpha=0.5, color='k')\n",
    "plt.xticks(y_pos, labels)\n",
    "plt.ylabel('Usage')\n",
    "plt.title('Specificity Scores')\n",
    " \n",
    "plt.show()"
   ]
  },
  {
   "cell_type": "code",
   "execution_count": 9,
   "metadata": {
    "collapsed": false
   },
   "outputs": [
    {
     "data": {
      "image/png": "[encoded data removed]",
      "text/plain": [
       "<matplotlib.figure.Figure at 0x1e71ffd0>"
      ]
     },
     "metadata": {},
     "output_type": "display_data"
    }
   ],
   "source": [
    "labels = ('AI', 'AINV', 'AM', 'AMNV')\n",
    "y_pos = np.arange(len(labels))\n",
    "performance = [gmeani_all[2][2], gmeani_novoronoi[2][2], gmeanm_all[2][2], gmeanm_novoronoi[2][2]]\n",
    " \n",
    "plt.bar(y_pos, performance, align='center', alpha=0.5, color='k')\n",
    "plt.xticks(y_pos, labels)\n",
    "plt.ylabel('Usage')\n",
    "plt.title('Matthew Correlation Coefficient Scores')\n",
    " \n",
    "plt.show()"
   ]
  },
  {
   "cell_type": "code",
   "execution_count": 10,
   "metadata": {
    "collapsed": false
   },
   "outputs": [
    {
     "data": {
      "image/png": "[encoded data removed]",
      "text/plain": [
       "<matplotlib.figure.Figure at 0x1e88a400>"
      ]
     },
     "metadata": {},
     "output_type": "display_data"
    }
   ],
   "source": [
    "labels = ('AI', 'AINV', 'AM', 'AMNV')\n",
    "y_pos = np.arange(len(labels))\n",
    "performance = [gmeani_all[2][3], gmeani_novoronoi[2][3], gmeanm_all[2][3], gmeanm_novoronoi[2][3]]\n",
    "\n",
    "plt.bar(y_pos, performance, align='center', alpha=0.5, color='k')\n",
    "plt.xticks(y_pos, labels)\n",
    "plt.ylabel('Usage')\n",
    "plt.title('G-mean Scores')\n",
    " \n",
    "plt.show()"
   ]
  }
 ],
 "metadata": {
  "kernelspec": {
   "display_name": "Python 2",
   "language": "python",
   "name": "python2"
  },
  "language_info": {
   "codemirror_mode": {
    "name": "ipython",
    "version": 2
   },
   "file_extension": ".py",
   "mimetype": "text/x-python",
   "name": "python",
   "nbconvert_exporter": "python",
   "pygments_lexer": "ipython2",
   "version": "2.7.10"
  }
 },
 "nbformat": 4,
 "nbformat_minor": 0
}
