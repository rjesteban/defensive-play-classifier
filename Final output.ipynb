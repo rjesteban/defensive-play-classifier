{
 "cells": [
  {
   "cell_type": "code",
   "execution_count": 1,
   "metadata": {
    "collapsed": false
   },
   "outputs": [],
   "source": [
    "from sklearn import preprocessing\n",
    "from sklearn.cross_validation import train_test_split\n",
    "from sklearn.metrics import confusion_matrix\n",
    "from sklearn.svm import SVC\n",
    "import pandas as pd\n",
    "import numpy as np"
   ]
  },
  {
   "cell_type": "code",
   "execution_count": 2,
   "metadata": {
    "collapsed": false
   },
   "outputs": [],
   "source": [
    "df = pd.read_csv(\"data/dataset.csv\")"
   ]
  },
  {
   "cell_type": "code",
   "execution_count": 3,
   "metadata": {
    "collapsed": false
   },
   "outputs": [
    {
     "name": "stdout",
     "output_type": "stream",
     "text": [
      "\n",
      "####### TRAIN ACC #######\n",
      "[[ 8  1]\n",
      " [ 1 38]]\n",
      "####### TRAIN SENS #######\n",
      "[[ 8  1]\n",
      " [ 1 38]]\n",
      "####### TRAIN SPEC #######\n",
      "[[ 9  0]\n",
      " [ 6 33]]\n",
      "\n",
      "####### TEST ACC #######\n",
      "[[18  1]\n",
      " [ 5 83]]\n",
      "####### TEST SENS #######\n",
      "[[18  1]\n",
      " [ 5 83]]\n",
      "####### TEST SPEC #######\n",
      "[[18  1]\n",
      " [ 5 83]]\n"
     ]
    }
   ],
   "source": [
    "# best_model_sensitivity_index = 0  # best model that can classify man  (+1)\n",
    "# best_model_specificity_index = 0  # best model that can classify zone (-1)\n",
    "from sklearn.svm import SVC\n",
    "import pandas as pd\n",
    "import numpy as np\n",
    "from metrics.evaluation import cross_validate_stratify\n",
    "\n",
    "df = pd.read_csv(\"data/dataset.csv\")\n",
    "\n",
    "\n",
    "X = np.matrix(df.iloc[:, range(14)].values)\n",
    "y = df.iloc[:, 14].values\n",
    "\n",
    "svm = SVC(class_weight='balanced')\n",
    "result = cross_validate_stratify(svm, X, y, fold=10)\n",
    "print \"\"\n",
    "\n",
    "acc = result[\"acc_model\"]\n",
    "sens = result[\"sens_model\"]\n",
    "spec = result[\"spec_model\"]\n",
    "\n",
    "print \"####### TRAIN ACC #######\"\n",
    "print acc[1][3]\n",
    "\n",
    "print \"####### TRAIN SENS #######\"\n",
    "print sens[1][3]\n",
    "\n",
    "print \"####### TRAIN SPEC #######\"\n",
    "print spec[1][3]\n",
    "\n",
    "print \"\"\n",
    "\n",
    "print \"####### TEST ACC #######\"\n",
    "print acc[2][3]\n",
    "\n",
    "print \"####### TEST SENS #######\"\n",
    "print sens[2][3]\n",
    "\n",
    "print \"####### TEST SPEC #######\"\n",
    "print spec[2][3]\n"
   ]
  }
 ],
 "metadata": {
  "kernelspec": {
   "display_name": "Python 2",
   "language": "python",
   "name": "python2"
  },
  "language_info": {
   "codemirror_mode": {
    "name": "ipython",
    "version": 2
   },
   "file_extension": ".py",
   "mimetype": "text/x-python",
   "name": "python",
   "nbconvert_exporter": "python",
   "pygments_lexer": "ipython2",
   "version": "2.7.10"
  }
 },
 "nbformat": 4,
 "nbformat_minor": 0
}
