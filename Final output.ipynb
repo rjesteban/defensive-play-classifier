{
 "cells": [
  {
   "cell_type": "code",
   "execution_count": 1,
   "metadata": {
    "collapsed": false,
    "deletable": true,
    "editable": true
   },
   "outputs": [],
   "source": [
    "from metrics.evaluation import cross_validate_stratify, present_metrics\n",
    "from sklearn import preprocessing\n",
    "from sklearn.cross_validation import StratifiedShuffleSplit, StratifiedKFold\n",
    "from sklearn.metrics import confusion_matrix\n",
    "from sklearn.svm import SVC\n",
    "from sklearn.svm import SVC\n",
    "\n",
    "import pandas as pd\n",
    "import numpy as np\n",
    "import pandas as pd\n",
    "import numpy as np"
   ]
  },
  {
   "cell_type": "markdown",
   "metadata": {},
   "source": [
    "using it all together"
   ]
  },
  {
   "cell_type": "code",
   "execution_count": 2,
   "metadata": {
    "collapsed": false
   },
   "outputs": [],
   "source": [
    "label = pd.read_csv(\"data/dataset.csv\")\n",
    "labely = label.iloc[:, 13].values\n",
    "sss = StratifiedShuffleSplit(labely, n_iter=1, test_size=0.4, random_state=0)\n",
    "\n",
    "for train_index, test_index in sss:\n",
    "    train_indices= train_index\n",
    "    test_indices = test_index\n",
    "skf = StratifiedKFold(labely[train_indices], n_folds=3)"
   ]
  },
  {
   "cell_type": "markdown",
   "metadata": {},
   "source": [
    "DATA SET INDIVIDUAL"
   ]
  },
  {
   "cell_type": "code",
   "execution_count": 3,
   "metadata": {
    "collapsed": false
   },
   "outputs": [
    {
     "name": "stdout",
     "output_type": "stream",
     "text": [
      "DECISION FXN: [-1.06916498 -0.79636955 -1.3557875  -0.99981234 -1.10515206  0.95139921\n",
      " -0.99962413 -1.3353066  -0.88367354  0.99981835  1.37123951 -1.01624114\n",
      "  1.00000056 -1.00022991 -0.99960556 -1.28650097 -0.23503608 -1.00001033\n",
      " -0.99985271 -0.99655644 -1.52335134 -0.87422272 -1.03128687 -1.20728377\n",
      "  0.9996307  -0.99987471 -0.84974898  1.00045096 -1.48987424 -0.9998536\n",
      " -1.11944585  1.18511605 -0.83934016 -1.00018657  1.00031149 -0.93771462\n",
      " -0.9997718   1.0002882  -1.00040937 -0.99797953 -1.3872889  -0.71895809\n",
      "  0.60775024 -1.00002269 -1.00018635  1.0000487  -1.00022505 -1.42775667\n",
      " -0.88312081 -1.07965288 -0.9997741  -0.71343571 -1.00006926 -1.00001638]\n",
      "[1.0, 1.0, 0.44444444444444442]\n",
      "[0.97727272727272729, 1.0, 0.93023255813953487]\n",
      "[0.9814814814814814, 1.0, 0.84615384615384603]\n",
      "\n",
      "####### TRAIN ACC #######\n",
      "ACCURACY: 1.0\n",
      "SENSITIVITY: 1.0\n",
      "SPECIFICITY: 1.0\n",
      "[[43  0]\n",
      " [ 0 10]]\n",
      "####### TRAIN SENS #######\n",
      "ACCURACY: 0.981481481481\n",
      "SENSITIVITY: 1.0\n",
      "SPECIFICITY: 0.977272727273\n",
      "[[43  1]\n",
      " [ 0 10]]\n",
      "####### TRAIN SPEC #######\n",
      "ACCURACY: 1.0\n",
      "SENSITIVITY: 1.0\n",
      "SPECIFICITY: 1.0\n",
      "[[43  0]\n",
      " [ 0 10]]\n",
      "\n",
      "####### TEST ACC #######\n",
      "ACCURACY: 0.897196261682\n",
      "SENSITIVITY: 0.736842105263\n",
      "SPECIFICITY: 0.931818181818\n",
      "[[82  6]\n",
      " [ 5 14]]\n",
      "####### TEST SENS #######\n",
      "ACCURACY: 0.897196261682\n",
      "SENSITIVITY: 0.736842105263\n",
      "SPECIFICITY: 0.931818181818\n",
      "[[82  6]\n",
      " [ 5 14]]\n",
      "####### TEST SPEC #######\n",
      "ACCURACY: 0.897196261682\n",
      "SENSITIVITY: 0.736842105263\n",
      "SPECIFICITY: 0.931818181818\n",
      "[[82  6]\n",
      " [ 5 14]]\n"
     ]
    }
   ],
   "source": [
    "df = pd.read_csv(\"data/datasetindividual.csv\")\n",
    "\n",
    "X = np.matrix(df.iloc[:, range(0, 45)].values)\n",
    "y = df.iloc[:, 45].values\n",
    "\n",
    "svm = SVC(class_weight='balanced')\n",
    "\n",
    "result = cross_validate_stratify(svm, X[train_indices], X[test_indices], y[train_indices], y[test_indices], skf)\n",
    "print \"\"\n",
    "\n",
    "acci_all = result[\"acc_model\"]\n",
    "sensi_all = result[\"sens_model\"]\n",
    "speci_all = result[\"spec_model\"]\n",
    "\n",
    "present_metrics(acci_all, sensi_all, speci_all)"
   ]
  },
  {
   "cell_type": "markdown",
   "metadata": {},
   "source": [
    "DATA SET INDIVIDUAL NO VORONOI TESSELLATION"
   ]
  },
  {
   "cell_type": "code",
   "execution_count": 4,
   "metadata": {
    "collapsed": false
   },
   "outputs": [
    {
     "name": "stdout",
     "output_type": "stream",
     "text": [
      "DECISION FXN: [-1.06916498 -0.79636955 -1.3557875  -0.99981234 -1.10515206  0.95139921\n",
      " -0.99962413 -1.3353066  -0.88367354  0.99981835  1.37123951 -1.01624114\n",
      "  1.00000056 -1.00022991 -0.99960556 -1.28650097 -0.23503608 -1.00001033\n",
      " -0.99985271 -0.99655644 -1.52335134 -0.87422272 -1.03128687 -1.20728377\n",
      "  0.9996307  -0.99987471 -0.84974898  1.00045096 -1.48987424 -0.9998536\n",
      " -1.11944585  1.18511605 -0.83934016 -1.00018657  1.00031149 -0.93771462\n",
      " -0.9997718   1.0002882  -1.00040937 -0.99797953 -1.3872889  -0.71895809\n",
      "  0.60775024 -1.00002269 -1.00018635  1.0000487  -1.00022505 -1.42775667\n",
      " -0.88312081 -1.07965288 -0.9997741  -0.71343571 -1.00006926 -1.00001638]\n",
      "[1.0, 1.0, 0.44444444444444442]\n",
      "[0.97727272727272729, 1.0, 0.93023255813953487]\n",
      "[0.9814814814814814, 1.0, 0.84615384615384603]\n",
      "\n",
      "####### TRAIN ACC #######\n",
      "ACCURACY: 1.0\n",
      "SENSITIVITY: 1.0\n",
      "SPECIFICITY: 1.0\n",
      "[[43  0]\n",
      " [ 0 10]]\n",
      "####### TRAIN SENS #######\n",
      "ACCURACY: 0.981481481481\n",
      "SENSITIVITY: 1.0\n",
      "SPECIFICITY: 0.977272727273\n",
      "[[43  1]\n",
      " [ 0 10]]\n",
      "####### TRAIN SPEC #######\n",
      "ACCURACY: 1.0\n",
      "SENSITIVITY: 1.0\n",
      "SPECIFICITY: 1.0\n",
      "[[43  0]\n",
      " [ 0 10]]\n",
      "\n",
      "####### TEST ACC #######\n",
      "ACCURACY: 0.897196261682\n",
      "SENSITIVITY: 0.736842105263\n",
      "SPECIFICITY: 0.931818181818\n",
      "[[82  6]\n",
      " [ 5 14]]\n",
      "####### TEST SENS #######\n",
      "ACCURACY: 0.897196261682\n",
      "SENSITIVITY: 0.736842105263\n",
      "SPECIFICITY: 0.931818181818\n",
      "[[82  6]\n",
      " [ 5 14]]\n",
      "####### TEST SPEC #######\n",
      "ACCURACY: 0.897196261682\n",
      "SENSITIVITY: 0.736842105263\n",
      "SPECIFICITY: 0.931818181818\n",
      "[[82  6]\n",
      " [ 5 14]]\n"
     ]
    }
   ],
   "source": [
    "df = pd.read_csv(\"data/datasetindividual.csv\")\n",
    "\n",
    "X = np.matrix(df.iloc[:, range(0, 45)].values)\n",
    "y = df.iloc[:, 45].values\n",
    "\n",
    "svm = SVC(class_weight='balanced')\n",
    "\n",
    "result = cross_validate_stratify(svm, X[train_indices], X[test_indices], y[train_indices], y[test_indices], skf)\n",
    "print \"\"\n",
    "\n",
    "acci_novoronoi = result[\"acc_model\"]\n",
    "sensi_novoronoi = result[\"sens_model\"]\n",
    "speci_novoronoi = result[\"spec_model\"]\n",
    "\n",
    "present_metrics(acci_novoronoi, sensi_novoronoi, speci_novoronoi)"
   ]
  },
  {
   "cell_type": "markdown",
   "metadata": {},
   "source": [
    "DATA SET ALL MEAN"
   ]
  },
  {
   "cell_type": "code",
   "execution_count": 5,
   "metadata": {
    "collapsed": false
   },
   "outputs": [
    {
     "name": "stdout",
     "output_type": "stream",
     "text": [
      "DECISION FXN: [-1.42671986 -0.0658838  -1.49612555 -1.07210044 -1.38495993  1.0000795\n",
      " -1.00041811 -1.28555825 -0.03000975  0.96873335  1.39953466 -1.70174923\n",
      "  1.13611933 -1.00023409 -0.60115648 -1.10583923 -0.0601039  -0.79319652\n",
      " -1.01267872 -0.99968172 -1.60255125 -0.60036629 -1.60026818 -1.04726916\n",
      "  1.00034532 -0.6078858  -1.00000809  0.74840661 -1.48696268 -0.80799634\n",
      " -1.31250494  1.07224425 -0.88080873 -0.99976275  0.99992664 -0.49220997\n",
      " -1.13068269  1.05887566 -0.80940524 -1.00024015 -1.83399204 -0.86355405\n",
      "  0.84895401 -1.00009607 -1.10135449  1.00052493 -1.00016691 -1.40835124\n",
      " -0.98037646 -1.63404488 -0.99984491 -0.85772312 -1.38233996 -0.99976417]\n",
      "[1.0, 1.0, 0.55555555555555558]\n",
      "[0.97727272727272729, 0.93023255813953487, 0.86046511627906974]\n",
      "[0.9814814814814814, 0.94339622641509435, 0.8076923076923076]\n",
      "\n",
      "####### TRAIN ACC #######\n",
      "ACCURACY: 0.981481481481\n",
      "SENSITIVITY: 1.0\n",
      "SPECIFICITY: 0.977272727273\n",
      "[[43  1]\n",
      " [ 0 10]]\n",
      "####### TRAIN SENS #######\n",
      "ACCURACY: 0.981481481481\n",
      "SENSITIVITY: 1.0\n",
      "SPECIFICITY: 0.977272727273\n",
      "[[43  1]\n",
      " [ 0 10]]\n",
      "####### TRAIN SPEC #######\n",
      "ACCURACY: 0.981481481481\n",
      "SENSITIVITY: 1.0\n",
      "SPECIFICITY: 0.977272727273\n",
      "[[43  1]\n",
      " [ 0 10]]\n",
      "\n",
      "####### TEST ACC #######\n",
      "ACCURACY: 0.897196261682\n",
      "SENSITIVITY: 0.842105263158\n",
      "SPECIFICITY: 0.909090909091\n",
      "[[80  8]\n",
      " [ 3 16]]\n",
      "####### TEST SENS #######\n",
      "ACCURACY: 0.897196261682\n",
      "SENSITIVITY: 0.842105263158\n",
      "SPECIFICITY: 0.909090909091\n",
      "[[80  8]\n",
      " [ 3 16]]\n",
      "####### TEST SPEC #######\n",
      "ACCURACY: 0.897196261682\n",
      "SENSITIVITY: 0.842105263158\n",
      "SPECIFICITY: 0.909090909091\n",
      "[[80  8]\n",
      " [ 3 16]]\n"
     ]
    }
   ],
   "source": [
    "df = pd.read_csv(\"data/dataset.csv\")\n",
    "\n",
    "X = np.matrix(df.iloc[:, range(0, 13)].values)\n",
    "y = df.iloc[:, 13].values\n",
    "\n",
    "svm = SVC(class_weight='balanced')\n",
    "\n",
    "result = cross_validate_stratify(svm, X[train_indices], X[test_indices], y[train_indices], y[test_indices], skf)\n",
    "print \"\"\n",
    "\n",
    "accm_all = result[\"acc_model\"]\n",
    "sensm_all = result[\"sens_model\"]\n",
    "specm_all = result[\"spec_model\"]\n",
    "\n",
    "present_metrics(accm_all, sensm_all, specm_all)"
   ]
  },
  {
   "cell_type": "markdown",
   "metadata": {},
   "source": [
    "DATA SET ALL MEAN NO VORONOI"
   ]
  },
  {
   "cell_type": "code",
   "execution_count": 6,
   "metadata": {
    "collapsed": false,
    "scrolled": true
   },
   "outputs": [
    {
     "name": "stdout",
     "output_type": "stream",
     "text": [
      "DECISION FXN: [-1.38211967 -0.89260766 -1.62513857 -1.53458776 -1.20922947  0.57712059\n",
      " -0.67669312 -0.99970675  0.00997828  0.99963439  0.9999413  -1.55097979\n",
      "  1.26393682 -0.28373588 -0.94320112 -1.49349197  0.35246192 -1.00000104\n",
      " -1.26545368 -1.31226892 -1.3562023  -0.73716228 -1.65910383 -1.29179845\n",
      "  1.01367878 -0.99948317  0.76204363  0.99986815 -1.04003142  0.75523239\n",
      " -1.95500952  1.27648694 -1.07372124 -1.46435165  0.9997742  -1.0000539\n",
      " -0.88755929  1.67491403 -0.14782772 -0.72234168 -1.79841729 -0.6546493\n",
      "  0.95829868 -1.06516698 -0.70759712  1.00034001 -1.06452692 -1.52466068\n",
      " -1.37570335 -1.71029585 -0.25414918 -1.291114   -1.22191572 -1.48984317]\n",
      "[1.0, 1.0, 0.77777777777777779]\n",
      "[0.88636363636363635, 0.90697674418604646, 0.90697674418604646]\n",
      "[0.90740740740740744, 0.92452830188679247, 0.88461538461538447]\n",
      "\n",
      "####### TRAIN ACC #######\n",
      "ACCURACY: 0.924528301887\n",
      "SENSITIVITY: 1.0\n",
      "SPECIFICITY: 0.906976744186\n",
      "[[39  4]\n",
      " [ 0 10]]\n",
      "####### TRAIN SENS #######\n",
      "ACCURACY: 0.907407407407\n",
      "SENSITIVITY: 1.0\n",
      "SPECIFICITY: 0.886363636364\n",
      "[[39  5]\n",
      " [ 0 10]]\n",
      "####### TRAIN SPEC #######\n",
      "ACCURACY: 0.924528301887\n",
      "SENSITIVITY: 1.0\n",
      "SPECIFICITY: 0.906976744186\n",
      "[[39  4]\n",
      " [ 0 10]]\n",
      "\n",
      "####### TEST ACC #######\n",
      "ACCURACY: 0.869158878505\n",
      "SENSITIVITY: 0.894736842105\n",
      "SPECIFICITY: 0.863636363636\n",
      "[[76 12]\n",
      " [ 2 17]]\n",
      "####### TEST SENS #######\n",
      "ACCURACY: 0.869158878505\n",
      "SENSITIVITY: 0.894736842105\n",
      "SPECIFICITY: 0.863636363636\n",
      "[[76 12]\n",
      " [ 2 17]]\n",
      "####### TEST SPEC #######\n",
      "ACCURACY: 0.869158878505\n",
      "SENSITIVITY: 0.894736842105\n",
      "SPECIFICITY: 0.863636363636\n",
      "[[76 12]\n",
      " [ 2 17]]\n"
     ]
    }
   ],
   "source": [
    "df = pd.read_csv(\"data/dataset.csv\")\n",
    "\n",
    "X = np.matrix(df.iloc[:, range(0, 8)].values)\n",
    "y = df.iloc[:, 13].values\n",
    "\n",
    "svm = SVC(class_weight='balanced')\n",
    "\n",
    "result = cross_validate_stratify(svm, X[train_indices], X[test_indices], y[train_indices], y[test_indices], skf)\n",
    "print \"\"\n",
    "\n",
    "accm_novoronoi = result[\"acc_model\"]\n",
    "sensm_novoronoi = result[\"sens_model\"]\n",
    "specm_novoronoi = result[\"spec_model\"]\n",
    "\n",
    "present_metrics(accm_novoronoi, sensm_novoronoi, specm_novoronoi)"
   ]
  },
  {
   "cell_type": "markdown",
   "metadata": {},
   "source": []
  }
 ],
 "metadata": {
  "kernelspec": {
   "display_name": "Python 2",
   "language": "python",
   "name": "python2"
  },
  "language_info": {
   "codemirror_mode": {
    "name": "ipython",
    "version": 2
   },
   "file_extension": ".py",
   "mimetype": "text/x-python",
   "name": "python",
   "nbconvert_exporter": "python",
   "pygments_lexer": "ipython2",
   "version": "2.7.10"
  }
 },
 "nbformat": 4,
 "nbformat_minor": 0
}
