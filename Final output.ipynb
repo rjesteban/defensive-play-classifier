{
 "cells": [
  {
   "cell_type": "code",
   "execution_count": 1,
   "metadata": {
    "collapsed": false,
    "deletable": true,
    "editable": true
   },
   "outputs": [],
   "source": [
    "from metrics.evaluation import cross_validate_stratify, present_metrics, get_metrics\n",
    "from visualizer.barchart import plot_bar_chart_comparison\n",
    "from sklearn import preprocessing\n",
    "from sklearn.cross_validation import StratifiedShuffleSplit, StratifiedKFold\n",
    "from sklearn.feature_selection import RFE\n",
    "from sklearn.metrics import confusion_matrix\n",
    "from sklearn.svm import SVC\n",
    "from sklearn.svm import SVC\n",
    "\n",
    "import matplotlib\n",
    "import matplotlib.pyplot as plt\n",
    "import numpy as np\n",
    "import pandas as pd\n",
    "% matplotlib inline"
   ]
  },
  {
   "cell_type": "markdown",
   "metadata": {},
   "source": [
    "using it all together"
   ]
  },
  {
   "cell_type": "code",
   "execution_count": 2,
   "metadata": {
    "collapsed": false
   },
   "outputs": [],
   "source": [
    "label = pd.read_csv(\"data/dataset.csv\")\n",
    "labely = label.iloc[:, 13].values\n",
    "sss = StratifiedShuffleSplit(labely, n_iter=1, test_size=0.4, random_state=0)\n",
    "\n",
    "for train_index, test_index in sss:\n",
    "    train_indices= train_index\n",
    "    test_indices = test_index\n",
    "skf = StratifiedKFold(labely[train_indices], n_folds=3)"
   ]
  },
  {
   "cell_type": "markdown",
   "metadata": {},
   "source": [
    "# DATA SET INDIVIDUAL"
   ]
  },
  {
   "cell_type": "code",
   "execution_count": 3,
   "metadata": {
    "collapsed": false
   },
   "outputs": [
    {
     "name": "stdout",
     "output_type": "stream",
     "text": [
      "\n",
      "CROSS VAL SCORES\n",
      "SENSITIVITY: 0.851851851852\n",
      "SPECIFICITY: 0.945736434109\n",
      "MATTHEWS CORR COEF: 0.784223054238\n",
      "GMEAN: 0.893998113157\n",
      "\n",
      "####### TEST GMEAN #######\n",
      "SENSITIVITY: 0.526315789474\n",
      "SPECIFICITY: 0.886363636364\n",
      "MATTHEWS CORR COEF: 0.404535212104\n",
      "GMEAN: 0.68301330663\n",
      "\n",
      "\n",
      "CONFUSION MATRIX\n",
      "10\t9\n",
      "10\t78\n"
     ]
    }
   ],
   "source": [
    "df = pd.read_csv(\"data/datasetindividual.csv\")\n",
    "\n",
    "X = np.matrix(df.iloc[:, range(0, 45)].values)\n",
    "y = df.iloc[:, 45].values\n",
    "\n",
    "svm = SVC(class_weight='balanced', kernel=\"linear\")\n",
    "\n",
    "resulti_all_lin = cross_validate_stratify(svm, X[train_indices], X[test_indices], y[train_indices], y[test_indices], skf)\n",
    "print \"\"\n",
    "\n",
    "gmeani_all_lin = resulti_all_lin[\"gmean_model\"]\n",
    "\n",
    "print \"CROSS VAL SCORES\"\n",
    "print \"SENSITIVITY: \" + str(resulti_all_lin[\"sens_cross_val\"])\n",
    "print \"SPECIFICITY: \" + str(resulti_all_lin[\"spec_cross_val\"])\n",
    "print \"MATTHEWS CORR COEF: \" + str(resulti_all_lin[\"matt_cross_val\"])\n",
    "print \"GMEAN: \" + str(resulti_all_lin[\"gmean_cross_val\"])\n",
    "print \"\"\n",
    "present_metrics(gmeani_all_lin, \"GMEAN\")"
   ]
  },
  {
   "cell_type": "code",
   "execution_count": 4,
   "metadata": {
    "collapsed": false
   },
   "outputs": [
    {
     "name": "stdout",
     "output_type": "stream",
     "text": [
      "\n",
      "CROSS VAL SCORES\n",
      "SENSITIVITY: 0.814814814815\n",
      "SPECIFICITY: 0.969168428471\n",
      "MATTHEWS CORR COEF: 0.785953677618\n",
      "GMEAN: 0.877187160928\n",
      "\n",
      "####### TEST GMEAN #######\n",
      "SENSITIVITY: 0.736842105263\n",
      "SPECIFICITY: 0.931818181818\n",
      "MATTHEWS CORR COEF: 0.655464300192\n",
      "GMEAN: 0.828615031733\n",
      "\n",
      "\n",
      "CONFUSION MATRIX\n",
      "14\t5\n",
      "6\t82\n"
     ]
    }
   ],
   "source": [
    "# USING RBF KERNEL\n",
    "svm = SVC(class_weight='balanced')\n",
    "\n",
    "resulti_all_rbf = cross_validate_stratify(svm, X[train_indices], X[test_indices], y[train_indices], y[test_indices], skf)\n",
    "print \"\"\n",
    "\n",
    "gmeani_all_rbf = resulti_all_rbf[\"gmean_model\"]\n",
    "\n",
    "print \"CROSS VAL SCORES\"\n",
    "print \"SENSITIVITY: \" + str(resulti_all_rbf[\"sens_cross_val\"])\n",
    "print \"SPECIFICITY: \" + str(resulti_all_rbf[\"spec_cross_val\"])\n",
    "print \"MATTHEWS CORR COEF: \" + str(resulti_all_rbf[\"matt_cross_val\"])\n",
    "print \"GMEAN: \" + str(resulti_all_rbf[\"gmean_cross_val\"])\n",
    "print \"\"\n",
    "present_metrics(gmeani_all_rbf, \"GMEAN\")\n"
   ]
  },
  {
   "cell_type": "markdown",
   "metadata": {},
   "source": [
    "# DATA SET INDIVIDUAL NO VORONOI TESSELLATION"
   ]
  },
  {
   "cell_type": "code",
   "execution_count": 5,
   "metadata": {
    "collapsed": false
   },
   "outputs": [
    {
     "name": "stdout",
     "output_type": "stream",
     "text": [
      "\n",
      "CROSS VAL SCORES\n",
      "SENSITIVITY: 0.740740740741\n",
      "SPECIFICITY: 0.937984496124\n",
      "MATTHEWS CORR COEF: 0.678241817349\n",
      "GMEAN: 0.808432731001\n",
      "\n",
      "####### TEST GMEAN #######\n",
      "SENSITIVITY: 0.526315789474\n",
      "SPECIFICITY: 0.852272727273\n",
      "MATTHEWS CORR COEF: 0.352194048172\n",
      "GMEAN: 0.669749649721\n",
      "\n",
      "\n",
      "CONFUSION MATRIX\n",
      "10\t9\n",
      "13\t75\n"
     ]
    }
   ],
   "source": [
    "df = pd.read_csv(\"data/datasetindividual.csv\")\n",
    "\n",
    "X = np.matrix(df.iloc[:, range(0, 40)].values)\n",
    "y = df.iloc[:, 45].values\n",
    "\n",
    "svm = SVC(class_weight='balanced', kernel=\"linear\")\n",
    "\n",
    "resulti_novoronoi_lin = cross_validate_stratify(svm, X[train_indices], X[test_indices], y[train_indices], y[test_indices], skf)\n",
    "print \"\"\n",
    "\n",
    "gmeani_novoronoi_lin = resulti_novoronoi_lin[\"gmean_model\"]\n",
    "\n",
    "print \"CROSS VAL SCORES\"\n",
    "print \"SENSITIVITY: \" + str(resulti_novoronoi_lin[\"sens_cross_val\"])\n",
    "print \"SPECIFICITY: \" + str(resulti_novoronoi_lin[\"spec_cross_val\"])\n",
    "print \"MATTHEWS CORR COEF: \" + str(resulti_novoronoi_lin[\"matt_cross_val\"])\n",
    "print \"GMEAN: \" + str(resulti_novoronoi_lin[\"gmean_cross_val\"])\n",
    "print \"\"\n",
    "present_metrics(gmeani_novoronoi_lin, \"GMEAN\")"
   ]
  },
  {
   "cell_type": "code",
   "execution_count": 6,
   "metadata": {
    "collapsed": false
   },
   "outputs": [
    {
     "name": "stdout",
     "output_type": "stream",
     "text": [
      "\n",
      "CROSS VAL SCORES\n",
      "SENSITIVITY: 0.814814814815\n",
      "SPECIFICITY: 0.953840732911\n",
      "MATTHEWS CORR COEF: 0.753453678438\n",
      "GMEAN: 0.870636866192\n",
      "\n",
      "####### TEST GMEAN #######\n",
      "SENSITIVITY: 0.789473684211\n",
      "SPECIFICITY: 0.931818181818\n",
      "MATTHEWS CORR COEF: 0.69401730299\n",
      "GMEAN: 0.857698043028\n",
      "\n",
      "\n",
      "CONFUSION MATRIX\n",
      "15\t4\n",
      "6\t82\n"
     ]
    }
   ],
   "source": [
    "# USING RBF KERNEL\n",
    "svm = SVC(class_weight='balanced')\n",
    "\n",
    "resulti_novoronoi_rbf = cross_validate_stratify(svm, X[train_indices], X[test_indices], y[train_indices], y[test_indices], skf)\n",
    "print \"\"\n",
    "\n",
    "gmeani_novoronoi_rbf = resulti_novoronoi_rbf[\"gmean_model\"]\n",
    "\n",
    "print \"CROSS VAL SCORES\"\n",
    "print \"SENSITIVITY: \" + str(resulti_novoronoi_rbf[\"sens_cross_val\"])\n",
    "print \"SPECIFICITY: \" + str(resulti_novoronoi_rbf[\"spec_cross_val\"])\n",
    "print \"MATTHEWS CORR COEF: \" + str(resulti_novoronoi_rbf[\"matt_cross_val\"])\n",
    "print \"GMEAN: \" + str(resulti_novoronoi_rbf[\"gmean_cross_val\"])\n",
    "print \"\"\n",
    "present_metrics(gmeani_novoronoi_rbf, \"GMEAN\")"
   ]
  },
  {
   "cell_type": "markdown",
   "metadata": {},
   "source": [
    "# DATA SET ALL MEAN"
   ]
  },
  {
   "cell_type": "code",
   "execution_count": 7,
   "metadata": {
    "collapsed": false
   },
   "outputs": [
    {
     "name": "stdout",
     "output_type": "stream",
     "text": [
      "\n",
      "CROSS VAL SCORES\n",
      "SENSITIVITY: 0.814814814815\n",
      "SPECIFICITY: 0.953664552502\n",
      "MATTHEWS CORR COEF: 0.751118187578\n",
      "GMEAN: 0.870592307362\n",
      "\n",
      "####### TEST GMEAN #######\n",
      "SENSITIVITY: 0.684210526316\n",
      "SPECIFICITY: 0.897727272727\n",
      "MATTHEWS CORR COEF: 0.55026754721\n",
      "GMEAN: 0.783731108073\n",
      "\n",
      "\n",
      "CONFUSION MATRIX\n",
      "13\t6\n",
      "9\t79\n"
     ]
    }
   ],
   "source": [
    "df = pd.read_csv(\"data/dataset.csv\")\n",
    "\n",
    "X = np.matrix(df.iloc[:, range(0, 13)].values)\n",
    "y = df.iloc[:, 13].values\n",
    "\n",
    "svm = SVC(class_weight='balanced', kernel=\"linear\")\n",
    "\n",
    "resultm_all_lin = cross_validate_stratify(svm, X[train_indices], X[test_indices], y[train_indices], y[test_indices], skf)\n",
    "print \"\"\n",
    "\n",
    "gmeanm_all_lin = resultm_all_lin[\"gmean_model\"]\n",
    "\n",
    "print \"CROSS VAL SCORES\"\n",
    "print \"SENSITIVITY: \" + str(resultm_all_lin[\"sens_cross_val\"])\n",
    "print \"SPECIFICITY: \" + str(resultm_all_lin[\"spec_cross_val\"])\n",
    "print \"MATTHEWS CORR COEF: \" + str(resultm_all_lin[\"matt_cross_val\"])\n",
    "print \"GMEAN: \" + str(resultm_all_lin[\"gmean_cross_val\"])\n",
    "print \"\"\n",
    "present_metrics(gmeanm_all_lin, \"GMEAN\")"
   ]
  },
  {
   "cell_type": "code",
   "execution_count": 8,
   "metadata": {
    "collapsed": false
   },
   "outputs": [
    {
     "name": "stdout",
     "output_type": "stream",
     "text": [
      "\n",
      "CROSS VAL SCORES\n",
      "SENSITIVITY: 0.851851851852\n",
      "SPECIFICITY: 0.922656800564\n",
      "MATTHEWS CORR COEF: 0.724616376397\n",
      "GMEAN: 0.881486099966\n",
      "\n",
      "####### TEST GMEAN #######\n",
      "SENSITIVITY: 0.842105263158\n",
      "SPECIFICITY: 0.909090909091\n",
      "MATTHEWS CORR COEF: 0.688219281399\n",
      "GMEAN: 0.87495727852\n",
      "\n",
      "\n",
      "CONFUSION MATRIX\n",
      "16\t3\n",
      "8\t80\n"
     ]
    }
   ],
   "source": [
    "# USING RBF KERNEL\n",
    "svm = SVC(class_weight='balanced')\n",
    "\n",
    "resultm_all_rbf = cross_validate_stratify(svm, X[train_indices], X[test_indices], y[train_indices], y[test_indices], skf)\n",
    "print \"\"\n",
    "\n",
    "gmeanm_all_rbf = resultm_all_rbf[\"gmean_model\"]\n",
    "\n",
    "print \"CROSS VAL SCORES\"\n",
    "print \"SENSITIVITY: \" + str(resultm_all_rbf[\"sens_cross_val\"])\n",
    "print \"SPECIFICITY: \" + str(resultm_all_rbf[\"spec_cross_val\"])\n",
    "print \"MATTHEWS CORR COEF: \" + str(resultm_all_rbf[\"matt_cross_val\"])\n",
    "print \"GMEAN: \" + str(resultm_all_rbf[\"gmean_cross_val\"])\n",
    "print \"\"\n",
    "present_metrics(gmeanm_all_rbf, \"GMEAN\")"
   ]
  },
  {
   "cell_type": "code",
   "execution_count": 18,
   "metadata": {
    "collapsed": false
   },
   "outputs": [
    {
     "name": "stdout",
     "output_type": "stream",
     "text": [
      "FEATURES EXTRACTED FROM RECURSIVE FEATURE ELIMINATION\n"
     ]
    },
    {
     "data": {
      "text/html": [
       "<div>\n",
       "<table border=\"1\" class=\"dataframe\">\n",
       "  <thead>\n",
       "    <tr style=\"text-align: right;\">\n",
       "      <th></th>\n",
       "      <th>distance</th>\n",
       "      <th>distance - canonical</th>\n",
       "      <th>distance from post</th>\n",
       "    </tr>\n",
       "  </thead>\n",
       "  <tbody>\n",
       "    <tr>\n",
       "      <th>0</th>\n",
       "      <td>-0.983</td>\n",
       "      <td>-0.3410</td>\n",
       "      <td>0.2480</td>\n",
       "    </tr>\n",
       "    <tr>\n",
       "      <th>1</th>\n",
       "      <td>-0.320</td>\n",
       "      <td>-0.4960</td>\n",
       "      <td>-0.7060</td>\n",
       "    </tr>\n",
       "    <tr>\n",
       "      <th>2</th>\n",
       "      <td>-0.953</td>\n",
       "      <td>-0.9190</td>\n",
       "      <td>-0.2650</td>\n",
       "    </tr>\n",
       "    <tr>\n",
       "      <th>3</th>\n",
       "      <td>-1.100</td>\n",
       "      <td>-1.3100</td>\n",
       "      <td>-0.5320</td>\n",
       "    </tr>\n",
       "    <tr>\n",
       "      <th>4</th>\n",
       "      <td>-0.501</td>\n",
       "      <td>0.0765</td>\n",
       "      <td>-0.0123</td>\n",
       "    </tr>\n",
       "  </tbody>\n",
       "</table>\n",
       "</div>"
      ],
      "text/plain": [
       "   distance  distance - canonical  distance from post\n",
       "0    -0.983               -0.3410              0.2480\n",
       "1    -0.320               -0.4960             -0.7060\n",
       "2    -0.953               -0.9190             -0.2650\n",
       "3    -1.100               -1.3100             -0.5320\n",
       "4    -0.501                0.0765             -0.0123"
      ]
     },
     "execution_count": 18,
     "metadata": {},
     "output_type": "execute_result"
    }
   ],
   "source": [
    "df = pd.read_csv(\"data/dataset.csv\")\n",
    "\n",
    "print \"FEATURES EXTRACTED FROM RECURSIVE FEATURE ELIMINATION\"\n",
    "\n",
    "df.iloc[0:, [0, 2, 5]].head()"
   ]
  },
  {
   "cell_type": "markdown",
   "metadata": {},
   "source": [
    "# DATA SET ALL MEAN NO VORONOI"
   ]
  },
  {
   "cell_type": "code",
   "execution_count": 9,
   "metadata": {
    "collapsed": false
   },
   "outputs": [
    {
     "name": "stdout",
     "output_type": "stream",
     "text": [
      "\n",
      "CROSS VAL SCORES\n",
      "SENSITIVITY: 0.818518518519\n",
      "SPECIFICITY: 0.908033826638\n",
      "MATTHEWS CORR COEF: 0.672063595763\n",
      "GMEAN: 0.855980075497\n",
      "\n",
      "####### TEST GMEAN #######\n",
      "SENSITIVITY: 0.631578947368\n",
      "SPECIFICITY: 0.852272727273\n",
      "MATTHEWS CORR COEF: 0.436971844148\n",
      "GMEAN: 0.733673982067\n",
      "\n",
      "\n",
      "CONFUSION MATRIX\n",
      "12\t7\n",
      "13\t75\n"
     ]
    }
   ],
   "source": [
    "df = pd.read_csv(\"data/dataset.csv\")\n",
    "\n",
    "X = np.matrix(df.iloc[:, range(0, 8)].values)\n",
    "y = df.iloc[:, 13].values\n",
    "\n",
    "svm = SVC(class_weight='balanced', kernel=\"linear\")\n",
    "\n",
    "resultm_novoronoi_lin = cross_validate_stratify(svm, X[train_indices], X[test_indices], y[train_indices], y[test_indices], skf)\n",
    "print \"\"\n",
    "\n",
    "gmeanm_novoronoi_lin = resultm_novoronoi_lin[\"gmean_model\"]\n",
    "\n",
    "print \"CROSS VAL SCORES\"\n",
    "print \"SENSITIVITY: \" + str(resultm_novoronoi_lin[\"sens_cross_val\"])\n",
    "print \"SPECIFICITY: \" + str(resultm_novoronoi_lin[\"spec_cross_val\"])\n",
    "print \"MATTHEWS CORR COEF: \" + str(resultm_novoronoi_lin[\"matt_cross_val\"])\n",
    "print \"GMEAN: \" + str(resultm_novoronoi_lin[\"gmean_cross_val\"])\n",
    "print \"\"\n",
    "present_metrics(gmeanm_novoronoi_lin, \"GMEAN\")"
   ]
  },
  {
   "cell_type": "code",
   "execution_count": 10,
   "metadata": {
    "collapsed": false
   },
   "outputs": [
    {
     "name": "stdout",
     "output_type": "stream",
     "text": [
      "\n",
      "CROSS VAL SCORES\n",
      "SENSITIVITY: 0.925925925926\n",
      "SPECIFICITY: 0.900105708245\n",
      "MATTHEWS CORR COEF: 0.735967450417\n",
      "GMEAN: 0.911239590881\n",
      "\n",
      "####### TEST GMEAN #######\n",
      "SENSITIVITY: 0.894736842105\n",
      "SPECIFICITY: 0.863636363636\n",
      "MATTHEWS CORR COEF: 0.652010840824\n",
      "GMEAN: 0.879049072992\n",
      "\n",
      "\n",
      "CONFUSION MATRIX\n",
      "17\t2\n",
      "12\t76\n"
     ]
    }
   ],
   "source": [
    "# USING RBF KERNEL\n",
    "svm = SVC(class_weight='balanced')\n",
    "\n",
    "resultm_novoronoi_rbf = cross_validate_stratify(svm, X[train_indices], X[test_indices], y[train_indices], y[test_indices], skf)\n",
    "print \"\"\n",
    "\n",
    "gmeanm_novoronoi_rbf = resultm_novoronoi_rbf[\"gmean_model\"]\n",
    "\n",
    "print \"CROSS VAL SCORES\"\n",
    "print \"SENSITIVITY: \" + str(resultm_novoronoi_rbf[\"sens_cross_val\"])\n",
    "print \"SPECIFICITY: \" + str(resultm_novoronoi_rbf[\"spec_cross_val\"])\n",
    "print \"MATTHEWS CORR COEF: \" + str(resultm_novoronoi_rbf[\"matt_cross_val\"])\n",
    "print \"GMEAN: \" + str(resultm_novoronoi_rbf[\"gmean_cross_val\"])\n",
    "print \"\"\n",
    "present_metrics(gmeanm_novoronoi_rbf, \"GMEAN\")"
   ]
  },
  {
   "cell_type": "markdown",
   "metadata": {},
   "source": [
    "# DATA SET ALL MEAN FEATURE SELECTION RECURSIVE FEATURE ELIM"
   ]
  },
  {
   "cell_type": "code",
   "execution_count": 11,
   "metadata": {
    "collapsed": false
   },
   "outputs": [
    {
     "name": "stdout",
     "output_type": "stream",
     "text": [
      "\n",
      "CROSS VAL SCORES\n",
      "SENSITIVITY: 0.892592592593\n",
      "SPECIFICITY: 0.8770260747\n",
      "MATTHEWS CORR COEF: 0.677568035796\n",
      "GMEAN: 0.884354316532\n",
      "\n",
      "####### TEST GMEAN #######\n",
      "SENSITIVITY: 0.842105263158\n",
      "SPECIFICITY: 0.863636363636\n",
      "MATTHEWS CORR COEF: 0.613580161556\n",
      "GMEAN: 0.852802865422\n",
      "\n",
      "\n",
      "CONFUSION MATRIX\n",
      "16\t3\n",
      "12\t76\n"
     ]
    },
    {
     "data": {
      "text/plain": [
       "array([ True, False,  True, False, False,  True, False, False], dtype=bool)"
      ]
     },
     "execution_count": 11,
     "metadata": {},
     "output_type": "execute_result"
    }
   ],
   "source": [
    "df = pd.read_csv(\"data/dataset.csv\")\n",
    "\n",
    "X = np.matrix(df.iloc[:, range(0, 8)].values)\n",
    "y = df.iloc[:, 13].values\n",
    "\n",
    "svc = SVC(class_weight='balanced', probability=True, kernel=\"linear\")\n",
    "svm = RFE(estimator=svc, n_features_to_select=3, step=1)\n",
    "\n",
    "result_rfe_lin = cross_validate_stratify(svm, X[train_indices], X[test_indices], y[train_indices], y[test_indices], skf)\n",
    "print \"\"\n",
    "\n",
    "gmean_rfe_lin = result_rfe_lin[\"gmean_model\"]\n",
    "\n",
    "print \"CROSS VAL SCORES\"\n",
    "print \"SENSITIVITY: \" + str(result_rfe_lin[\"sens_cross_val\"])\n",
    "print \"SPECIFICITY: \" + str(result_rfe_lin[\"spec_cross_val\"])\n",
    "print \"MATTHEWS CORR COEF: \" + str(result_rfe_lin[\"matt_cross_val\"])\n",
    "print \"GMEAN: \" + str(result_rfe_lin[\"gmean_cross_val\"])\n",
    "print \"\"\n",
    "present_metrics(gmean_rfe_lin, \"GMEAN\")\n",
    "\n",
    "gmean_rfe_lin[0].support_"
   ]
  },
  {
   "cell_type": "code",
   "execution_count": 12,
   "metadata": {
    "collapsed": false
   },
   "outputs": [
    {
     "name": "stdout",
     "output_type": "stream",
     "text": [
      "\n",
      "CROSS VAL SCORES\n",
      "SENSITIVITY: 0.855555555556\n",
      "SPECIFICITY: 0.915433403805\n",
      "MATTHEWS CORR COEF: 0.71055979928\n",
      "GMEAN: 0.882204287998\n",
      "\n",
      "####### TEST GMEAN #######\n",
      "SENSITIVITY: 0.842105263158\n",
      "SPECIFICITY: 0.897727272727\n",
      "MATTHEWS CORR COEF: 0.668151015094\n",
      "GMEAN: 0.869471598871\n",
      "\n",
      "\n",
      "CONFUSION MATRIX\n",
      "16\t3\n",
      "9\t79\n"
     ]
    }
   ],
   "source": [
    "df = pd.read_csv(\"data/dataset.csv\")\n",
    "\n",
    "support = [i for i, boolV in enumerate(gmean_rfe_lin[0].support_) if boolV == True]\n",
    "\n",
    "X = np.matrix(df.iloc[:, support].values)\n",
    "\n",
    "svm = SVC(class_weight='balanced')\n",
    "\n",
    "resultm_rfe_rbf = cross_validate_stratify(svm, X[train_indices], X[test_indices], y[train_indices], y[test_indices], skf)\n",
    "print \"\"\n",
    "\n",
    "gmeanm_rfe_rbf = resultm_rfe_rbf[\"gmean_model\"]\n",
    "\n",
    "print \"CROSS VAL SCORES\"\n",
    "print \"SENSITIVITY: \" + str(resultm_rfe_rbf[\"sens_cross_val\"])\n",
    "print \"SPECIFICITY: \" + str(resultm_rfe_rbf[\"spec_cross_val\"])\n",
    "print \"MATTHEWS CORR COEF: \" + str(resultm_rfe_rbf[\"matt_cross_val\"])\n",
    "print \"GMEAN: \" + str(resultm_rfe_rbf[\"gmean_cross_val\"])\n",
    "print \"\"\n",
    "present_metrics(gmeanm_rfe_rbf, \"GMEAN\")"
   ]
  },
  {
   "cell_type": "code",
   "execution_count": 13,
   "metadata": {
    "collapsed": false
   },
   "outputs": [
    {
     "data": {
      "image/png": "[encoded data removed]",
      "text/plain": [
       "<matplotlib.figure.Figure at 0x1e9a4400>"
      ]
     },
     "metadata": {},
     "output_type": "display_data"
    },
    {
     "data": {
      "image/png": "[encoded data removed]",
      "text/plain": [
       "<matplotlib.figure.Figure at 0x1e8bcdd8>"
      ]
     },
     "metadata": {},
     "output_type": "display_data"
    },
    {
     "data": {
      "image/png": "[encoded data removed]",
      "text/plain": [
       "<matplotlib.figure.Figure at 0x1ed38d68>"
      ]
     },
     "metadata": {},
     "output_type": "display_data"
    },
    {
     "data": {
      "image/png": "[encoded data removed]",
      "text/plain": [
       "<matplotlib.figure.Figure at 0x1ef6c400>"
      ]
     },
     "metadata": {},
     "output_type": "display_data"
    }
   ],
   "source": [
    "sensitivity_lin = ([\n",
    "gmeani_all_lin[2][0],\n",
    "gmeani_novoronoi_lin[2][0],\n",
    "gmeanm_all_lin[2][0],\n",
    "gmeanm_novoronoi_lin[2][0],\n",
    "gmean_rfe_lin[2][0]])\n",
    "\n",
    "sensitivity_rbf = ([\n",
    "gmeani_all_rbf[2][0],\n",
    "gmeani_novoronoi_rbf[2][0],\n",
    "gmeanm_all_rbf[2][0],\n",
    "gmeanm_novoronoi_rbf[2][0],\n",
    "gmeanm_rfe_rbf[2][0]])\n",
    "\n",
    "specificity_lin = ([\n",
    "gmeani_all_lin[2][1],\n",
    "gmeani_novoronoi_lin[2][1],\n",
    "gmeanm_all_lin[2][1],\n",
    "gmeanm_novoronoi_lin[2][1],\n",
    "gmean_rfe_lin[2][1],\n",
    "])\n",
    "\n",
    "\n",
    "specificity_rbf =([\n",
    "gmeani_all_rbf[2][1],\n",
    "gmeani_novoronoi_rbf[2][1],\n",
    "gmeanm_all_rbf[2][1],\n",
    "gmeanm_novoronoi_rbf[2][1],\n",
    "gmeanm_rfe_rbf[2][1]\n",
    "])\n",
    "\n",
    "matthews_lin = ([\n",
    "gmeani_all_lin[2][2],\n",
    "gmeani_novoronoi_lin[2][2],\n",
    "gmeanm_all_lin[2][2],\n",
    "gmeanm_novoronoi_lin[2][2],\n",
    "gmean_rfe_lin[2][2],\n",
    "])\n",
    "\n",
    "matthews_rbf = ([\n",
    "gmeani_all_rbf[2][2],\n",
    "gmeani_novoronoi_rbf[2][2],\n",
    "gmeanm_all_rbf[2][2],\n",
    "gmeanm_novoronoi_rbf[2][2],\n",
    "gmeanm_rfe_rbf[2][2]\n",
    "])\n",
    "\n",
    "gmean_lin = ([\n",
    "gmeani_all_lin[2][3],\n",
    "gmeani_novoronoi_lin[2][3],\n",
    "gmeanm_all_lin[2][3],\n",
    "gmeanm_novoronoi_lin[2][3],\n",
    "gmean_rfe_lin[2][3],\n",
    "])\n",
    "\n",
    "gmean_rbf = ([\n",
    "gmeani_all_rbf[2][3],\n",
    "gmeani_novoronoi_rbf[2][3],\n",
    "gmeanm_all_rbf[2][3],\n",
    "gmeanm_novoronoi_rbf[2][3],\n",
    "gmeanm_rfe_rbf[2][3]\n",
    "])\n",
    "\n",
    "scores_lin = [sensitivity_lin, specificity_lin, matthews_lin, gmean_lin]\n",
    "scores_rbf = [sensitivity_rbf, specificity_rbf, matthews_rbf, gmean_rbf]\n",
    "labels = [\"Sensitivity\", \"Specificity\", \"MCC\", \"G-mean\"]\n",
    "\n",
    "for score_lin, score_rbf, label in zip(scores_lin, scores_rbf, labels):\n",
    "    plot_bar_chart_comparison(score_lin, score_rbf, label)"
   ]
  }
 ],
 "metadata": {
  "kernelspec": {
   "display_name": "Python 2",
   "language": "python",
   "name": "python2"
  },
  "language_info": {
   "codemirror_mode": {
    "name": "ipython",
    "version": 2
   },
   "file_extension": ".py",
   "mimetype": "text/x-python",
   "name": "python",
   "nbconvert_exporter": "python",
   "pygments_lexer": "ipython2",
   "version": "2.7.10"
  }
 },
 "nbformat": 4,
 "nbformat_minor": 0
}
